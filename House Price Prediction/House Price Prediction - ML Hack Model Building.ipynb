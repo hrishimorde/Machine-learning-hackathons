{
 "cells": [
  {
   "cell_type": "code",
   "execution_count": 3,
   "metadata": {},
   "outputs": [],
   "source": [
    "import pandas as pd\n",
    "import numpy as np\n",
    "import matplotlib.pyplot as plt\n",
    "import seaborn as sns\n",
    "sns.set(style='dark')\n",
    "\n",
    "from sklearn.model_selection import train_test_split\n",
    "\n",
    "from sklearn.linear_model import LinearRegression\n",
    "from sklearn.tree import DecisionTreeRegressor\n",
    "from sklearn.ensemble import RandomForestRegressor\n",
    "from lightgbm import LGBMRegressor\n",
    "from xgboost import XGBRegressor\n",
    "from catboost import CatBoostRegressor\n",
    "\n",
    "from sklearn.model_selection import StratifiedKFold, KFold\n",
    "from sklearn.preprocessing import StandardScaler, LabelEncoder\n",
    "le = LabelEncoder()\n",
    "\n",
    "from sklearn.metrics import mean_squared_error, mean_absolute_error, mean_squared_log_error\n",
    "\n",
    "import os"
   ]
  },
  {
   "cell_type": "code",
   "execution_count": 14,
   "metadata": {},
   "outputs": [
    {
     "data": {
      "text/plain": [
       "<matplotlib.axes._subplots.AxesSubplot at 0x2038f3f6d48>"
      ]
     },
     "execution_count": 14,
     "metadata": {},
     "output_type": "execute_result"
    },
    {
     "data": {
      "image/png": "[encoded data removed]",
      "text/plain": [
       "<Figure size 432x288 with 1 Axes>"
      ]
     },
     "metadata": {},
     "output_type": "display_data"
    }
   ],
   "source": [
    "sns.boxplot(np.sort(train['SQUARE_FT']))"
   ]
  },
  {
   "cell_type": "code",
   "execution_count": 6,
   "metadata": {},
   "outputs": [],
   "source": [
    "path = os.getcwd()"
   ]
  },
  {
   "cell_type": "code",
   "execution_count": 7,
   "metadata": {},
   "outputs": [],
   "source": [
    "train = pd.read_csv(path + \"\\\\Train.csv\")\n",
    "test = pd.read_csv(path+\"\\\\Test.csv\")\n",
    "sample_sub = pd.read_csv(path+\"\\\\sample_submission.csv\")"
   ]
  },
  {
   "cell_type": "code",
   "execution_count": 322,
   "metadata": {},
   "outputs": [],
   "source": [
    "train['TARGET(PRICE_IN_LACS)']=np.log1p(train['TARGET(PRICE_IN_LACS)'])"
   ]
  },
  {
   "cell_type": "markdown",
   "metadata": {},
   "source": [
    "## Baseline Regression Model"
   ]
  },
  {
   "cell_type": "markdown",
   "metadata": {},
   "source": [
    "Steps to make baseline Regression Model\n",
    "\n",
    "1. Concatenate/Join the train and test Datasets. All kinds of processing must be performed on both train and test datasets together.\n",
    "\n",
    "2. Convert all Categorical Variables to numbers. We will be use OneHot Encoding for this. \n",
    "\n",
    "3. Fill Null Values. This can be followed by other data processing and feature engineering steps, but we will go into it later.\n",
    "\n",
    "4. Split the dataset back into train and test datasets.\n",
    "\n",
    "5. Split the train set into train and validation sets.\n",
    "\n",
    "6. Fit a regression Model on train, check its results on validation set.\n",
    "\n",
    "7. Predict for the test set.\n",
    "\n",
    "8.  Save the submission as a csv file and submit the model on AV."
   ]
  },
  {
   "cell_type": "markdown",
   "metadata": {},
   "source": [
    "---\n",
    "### 1. Concating Train and Test Set"
   ]
  },
  {
   "cell_type": "code",
   "execution_count": 323,
   "metadata": {},
   "outputs": [
    {
     "data": {
      "text/plain": [
       "(98171, 12)"
      ]
     },
     "execution_count": 323,
     "metadata": {},
     "output_type": "execute_result"
    }
   ],
   "source": [
    "df = pd.concat([train, test], axis = 0).reset_index(drop=True)\n",
    "df.shape"
   ]
  },
  {
   "cell_type": "markdown",
   "metadata": {},
   "source": [
    "### 2. Missing Values"
   ]
  },
  {
   "cell_type": "code",
   "execution_count": 324,
   "metadata": {},
   "outputs": [
    {
     "data": {
      "text/plain": [
       "POSTED_BY                    0\n",
       "UNDER_CONSTRUCTION           0\n",
       "RERA                         0\n",
       "BHK_NO.                      0\n",
       "BHK_OR_RK                    0\n",
       "SQUARE_FT                    0\n",
       "READY_TO_MOVE                0\n",
       "RESALE                       0\n",
       "ADDRESS                      0\n",
       "LONGITUDE                    0\n",
       "LATITUDE                     0\n",
       "TARGET(PRICE_IN_LACS)    68720\n",
       "dtype: int64"
      ]
     },
     "execution_count": 324,
     "metadata": {},
     "output_type": "execute_result"
    }
   ],
   "source": [
    "df.isna().sum()"
   ]
  },
  {
   "cell_type": "markdown",
   "metadata": {},
   "source": [
    "### 3. Convert all categorical columns to number"
   ]
  },
  {
   "cell_type": "markdown",
   "metadata": {},
   "source": [
    "#### Transformation"
   ]
  },
  {
   "cell_type": "code",
   "execution_count": 325,
   "metadata": {},
   "outputs": [],
   "source": [
    "df['SQUARE_FT'] = np.log(df['SQUARE_FT'])"
   ]
  },
  {
   "cell_type": "markdown",
   "metadata": {},
   "source": [
    "#### Changing Datatype"
   ]
  },
  {
   "cell_type": "code",
   "execution_count": 326,
   "metadata": {},
   "outputs": [],
   "source": [
    "df['POSTED_BY'].replace( {'Owner' : 0, 'Builder' : 1, 'Dealer' : 2}, inplace = True)\n",
    "df['BHK_OR_RK'].replace( {'BHK':1, 'RK': 0}, inplace = True)\n",
    "\n",
    "df['BHK_NO.'].replace( {15:14, 16:15, 17:16, 18:17, 20:19, 31:19}, inplace= True)"
   ]
  },
  {
   "cell_type": "code",
   "execution_count": 327,
   "metadata": {},
   "outputs": [],
   "source": [
    "df['POSTED_BY'] = df['POSTED_BY'].astype('uint8')\n",
    "df['UNDER_CONSTRUCTION'] = df['UNDER_CONSTRUCTION'].astype('bool')\n",
    "df['RERA'] = df['RERA'].astype('bool')\n",
    "df['BHK_NO.'] = df['BHK_NO.'].astype('int8')\n",
    "df['BHK_OR_RK'] = df['BHK_OR_RK'].astype('bool')\n",
    "df['READY_TO_MOVE'] = df['READY_TO_MOVE'].astype('bool')\n",
    "df['RESALE'] = df['RESALE'].astype('bool')"
   ]
  },
  {
   "cell_type": "markdown",
   "metadata": {},
   "source": [
    "#### Encoding"
   ]
  },
  {
   "cell_type": "code",
   "execution_count": 328,
   "metadata": {},
   "outputs": [],
   "source": [
    "df = pd.get_dummies(data = df, columns=['POSTED_BY'], drop_first=True)"
   ]
  },
  {
   "cell_type": "code",
   "execution_count": 329,
   "metadata": {},
   "outputs": [],
   "source": [
    "df.rename(columns={\"POSTED_BY_1\": \"POSTED_BY_One\", \"POSTED_BY_2\": \"POSTED_BY_Two\"}, inplace = True)"
   ]
  },
  {
   "cell_type": "markdown",
   "metadata": {},
   "source": [
    "### 4. Split the processed dataset back into train and test datasets"
   ]
  },
  {
   "cell_type": "code",
   "execution_count": 330,
   "metadata": {},
   "outputs": [],
   "source": [
    "train_proc, test_proc = df[:train.shape[0]], df[train.shape[0]:].reset_index(drop = True)"
   ]
  },
  {
   "cell_type": "code",
   "execution_count": 331,
   "metadata": {},
   "outputs": [],
   "source": [
    "target = 'TARGET(PRICE_IN_LACS)'\n",
    "\n",
    "info = 'ADDRESS'\n",
    "\n",
    "features = [col for col in df.columns if col not in ([target, info])]"
   ]
  },
  {
   "cell_type": "markdown",
   "metadata": {},
   "source": [
    "### 5. Split the Train Set into Validation Set"
   ]
  },
  {
   "cell_type": "code",
   "execution_count": 332,
   "metadata": {},
   "outputs": [],
   "source": [
    "trn, val = train_test_split(train_proc, test_size = 0.2, random_state = 1999)\n",
    "\n",
    "##### Input for model\n",
    "X_trn, X_val = trn[features], val[features]\n",
    "\n",
    "##### Target column\n",
    "y_trn, y_val = trn[target], val[target]\n",
    "\n",
    "##### Features for test data that we will be predicting\n",
    "X_test = test_proc[features]"
   ]
  },
  {
   "cell_type": "markdown",
   "metadata": {},
   "source": [
    "### 6. Fit a Regression Model on train, check its result on validation set"
   ]
  },
  {
   "cell_type": "markdown",
   "metadata": {},
   "source": [
    "**1. Linear Regression**"
   ]
  },
  {
   "cell_type": "code",
   "execution_count": 333,
   "metadata": {},
   "outputs": [
    {
     "name": "stdout",
     "output_type": "stream",
     "text": [
      "mean_squared_log_error is : 0.5881500947922242\n",
      "Wall time: 21.9 ms\n"
     ]
    }
   ],
   "source": [
    "%%time\n",
    "\n",
    "lr = LinearRegression()\n",
    "\n",
    "lr.fit(X_trn, y_trn)\n",
    "\n",
    "preds = lr.predict(X_val)\n",
    "preds = np.abs(preds)\n",
    "\n",
    "error = np.sqrt(mean_squared_error(y_val, preds))\n",
    "\n",
    "print(f'mean_squared_log_error is : {error}')"
   ]
  },
  {
   "cell_type": "markdown",
   "metadata": {},
   "source": [
    "**2. Decision Tree**"
   ]
  },
  {
   "cell_type": "code",
   "execution_count": 334,
   "metadata": {},
   "outputs": [
    {
     "name": "stdout",
     "output_type": "stream",
     "text": [
      "mean_squared_log_error is : 0.4236175420295884\n",
      "Wall time: 59.8 ms\n"
     ]
    }
   ],
   "source": [
    "%%time\n",
    "dt = DecisionTreeRegressor(random_state = 1999, max_features = 0.9, max_leaf_nodes = 150)\n",
    "\n",
    "dt.fit(X_trn, y_trn)\n",
    "\n",
    "preds = dt.predict(X_val)\n",
    "preds = np.abs(preds)\n",
    "\n",
    "error = np.sqrt(mean_squared_error(y_val, preds))\n",
    "\n",
    "print(f'mean_squared_log_error is : {error}')"
   ]
  },
  {
   "cell_type": "markdown",
   "metadata": {},
   "source": [
    "**3. Random Forest**"
   ]
  },
  {
   "cell_type": "code",
   "execution_count": 335,
   "metadata": {},
   "outputs": [
    {
     "name": "stdout",
     "output_type": "stream",
     "text": [
      "mean_squared_log_error is : 0.342885502152445\n",
      "Wall time: 6.19 s\n"
     ]
    }
   ],
   "source": [
    "%%time\n",
    "rf = RandomForestRegressor()\n",
    "\n",
    "rf.fit(X_trn, y_trn)\n",
    "\n",
    "preds = rf.predict(X_val)\n",
    "preds = np.abs(preds)\n",
    "\n",
    "error = np.sqrt(mean_squared_error(y_val, preds))\n",
    "\n",
    "print(f'mean_squared_log_error is : {error}')"
   ]
  },
  {
   "cell_type": "markdown",
   "metadata": {},
   "source": [
    "### Boosting"
   ]
  },
  {
   "cell_type": "markdown",
   "metadata": {},
   "source": [
    "**1. LGBM Regressor**"
   ]
  },
  {
   "cell_type": "code",
   "execution_count": 336,
   "metadata": {},
   "outputs": [
    {
     "name": "stdout",
     "output_type": "stream",
     "text": [
      "mean_squared_log_error is : 0.3556984843225311\n",
      "Wall time: 209 ms\n"
     ]
    }
   ],
   "source": [
    "%%time\n",
    "lgb = LGBMRegressor()\n",
    "\n",
    "lgb.fit(X_trn, y_trn)\n",
    "\n",
    "preds = lgb.predict(X_val)\n",
    "preds = np.abs(preds)\n",
    "\n",
    "error = np.sqrt(mean_squared_error(y_val, preds))\n",
    "\n",
    "print(f'mean_squared_log_error is : {error}')"
   ]
  },
  {
   "cell_type": "markdown",
   "metadata": {},
   "source": [
    "**2. XGB Regressor**"
   ]
  },
  {
   "cell_type": "code",
   "execution_count": 337,
   "metadata": {},
   "outputs": [
    {
     "name": "stdout",
     "output_type": "stream",
     "text": [
      "mean_squared_log_error is : 0.3286331068402993\n",
      "Wall time: 893 ms\n"
     ]
    }
   ],
   "source": [
    "%%time\n",
    "\n",
    "xgb = XGBRegressor()\n",
    "\n",
    "xgb.fit(X_trn, y_trn)\n",
    "preds = xgb.predict(X_val)\n",
    "preds = np.abs(preds)\n",
    "\n",
    "error = np.sqrt(mean_squared_error(y_val, preds))\n",
    "\n",
    "print(f'mean_squared_log_error is : {error}')"
   ]
  },
  {
   "cell_type": "markdown",
   "metadata": {},
   "source": [
    "**3. CATBoost Regressor**"
   ]
  },
  {
   "cell_type": "code",
   "execution_count": 338,
   "metadata": {},
   "outputs": [
    {
     "name": "stdout",
     "output_type": "stream",
     "text": [
      "mean_squared_log_error is : 0.34394868179359556\n",
      "Wall time: 3.89 s\n"
     ]
    }
   ],
   "source": [
    "%%time\n",
    "\n",
    "cat = CatBoostRegressor(verbose = False)\n",
    "\n",
    "cat.fit(X_trn, y_trn)\n",
    "preds = cat.predict(X_val)\n",
    "preds = np.abs(preds)\n",
    "\n",
    "error = np.sqrt(mean_squared_error(y_val, preds))\n",
    "\n",
    "print(f'mean_squared_log_error is : {error}')"
   ]
  },
  {
   "cell_type": "markdown",
   "metadata": {},
   "source": [
    "---\n",
    "# Validation Strategy"
   ]
  },
  {
   "cell_type": "code",
   "execution_count": 339,
   "metadata": {},
   "outputs": [],
   "source": [
    "def cross_val(regressor, train, test, features):\n",
    "    N_splits = 5\n",
    "    \n",
    "    oofs = np.zeros(len(train))\n",
    "    preds = np.zeros(len(test))\n",
    "    \n",
    "    target_col = train[target]\n",
    "    \n",
    "    folds = StratifiedKFold(n_splits = N_splits, shuffle = True,random_state = 1999)\n",
    "    stratified_target = pd.qcut( train[target], 10, labels=False, duplicates='drop')\n",
    "    \"\"\n",
    "    for index, (trn_idx, val_idx) in enumerate(folds.split(train, stratified_target)):\n",
    "        print(f'\\n================================Fold{index + 1}===================================')\n",
    "        \n",
    "        #### Train Set\n",
    "        X_trn, y_trn = train[features].iloc[trn_idx], train[target].iloc[trn_idx]\n",
    "        \n",
    "        #### Validation Set\n",
    "        X_val, y_val = train[features].iloc[val_idx], train[target].iloc[val_idx]\n",
    "        \n",
    "        #### Test Set\n",
    "        X_test = test[features]\n",
    "        \n",
    "        #### Scaling Data ####\n",
    "        scaler = StandardScaler()\n",
    "        _ = scaler.fit(X_trn)\n",
    "        \n",
    "        X_trn = scaler.transform(X_trn)\n",
    "        X_val = scaler.transform(X_val)\n",
    "        X_test = scaler.transform(X_test)\n",
    "        \n",
    "        ############ Fitting #############\n",
    "        _ = regressor.fit(X_trn, y_trn)\n",
    "        \n",
    "        ############ Predicting #############\n",
    "        val_preds = np.abs(regressor.predict(X_val))\n",
    "        test_preds = np.abs(regressor.predict(X_test))\n",
    "        \n",
    "        error = np.sqrt(mean_squared_error(y_val, val_preds))\n",
    "        print(f'\\n Root Log Mean Squared Error for Validation set is : {error}')\n",
    "        \n",
    "        oofs[val_idx] = val_preds\n",
    "        preds += test_preds / N_splits\n",
    "        \n",
    "    total_error = np.sqrt(mean_squared_error(target_col, oofs))\n",
    "    print(f'\\n\\Root Log Mean Squared Error for oofs is {total_error}')\n",
    "    \n",
    "    return oofs, preds"
   ]
  },
  {
   "cell_type": "markdown",
   "metadata": {},
   "source": [
    "**1. Linear Regression**"
   ]
  },
  {
   "cell_type": "code",
   "execution_count": 340,
   "metadata": {},
   "outputs": [
    {
     "name": "stdout",
     "output_type": "stream",
     "text": [
      "\n",
      "================================Fold1===================================\n",
      "\n",
      " Root Log Mean Squared Error for Validation set is : 0.5885586652116632\n",
      "\n",
      "================================Fold2===================================\n",
      "\n",
      " Root Log Mean Squared Error for Validation set is : 0.5826603812909636\n",
      "\n",
      "================================Fold3===================================\n",
      "\n",
      " Root Log Mean Squared Error for Validation set is : 0.6053730723872894\n",
      "\n",
      "================================Fold4===================================\n",
      "\n",
      " Root Log Mean Squared Error for Validation set is : 0.588038635151981\n",
      "\n",
      "================================Fold5===================================\n",
      "\n",
      " Root Log Mean Squared Error for Validation set is : 0.6048064011883663\n",
      "\n",
      "\\Root Log Mean Squared Error for oofs is 0.5939612973537809\n",
      "Wall time: 554 ms\n"
     ]
    }
   ],
   "source": [
    "%%time\n",
    "lr_oofs, lr_preds = cross_val(lr, train_proc, test_proc, features)"
   ]
  },
  {
   "cell_type": "markdown",
   "metadata": {},
   "source": [
    "**2. Decision Tree**"
   ]
  },
  {
   "cell_type": "code",
   "execution_count": 341,
   "metadata": {},
   "outputs": [
    {
     "name": "stdout",
     "output_type": "stream",
     "text": [
      "\n",
      "================================Fold1===================================\n",
      "\n",
      " Root Log Mean Squared Error for Validation set is : 0.41387435184558724\n",
      "\n",
      "================================Fold2===================================\n",
      "\n",
      " Root Log Mean Squared Error for Validation set is : 0.412862820771373\n",
      "\n",
      "================================Fold3===================================\n",
      "\n",
      " Root Log Mean Squared Error for Validation set is : 0.42561173830370996\n",
      "\n",
      "================================Fold4===================================\n",
      "\n",
      " Root Log Mean Squared Error for Validation set is : 0.42396688231601865\n",
      "\n",
      "================================Fold5===================================\n",
      "\n",
      " Root Log Mean Squared Error for Validation set is : 0.43692410498871653\n",
      "\n",
      "\\Root Log Mean Squared Error for oofs is 0.42273925091633097\n",
      "Wall time: 730 ms\n"
     ]
    }
   ],
   "source": [
    "%%time\n",
    "dt_oofs, dt_preds = cross_val(dt, train_proc, test_proc, features)"
   ]
  },
  {
   "cell_type": "markdown",
   "metadata": {},
   "source": [
    "**3. Random Forest**"
   ]
  },
  {
   "cell_type": "code",
   "execution_count": 342,
   "metadata": {},
   "outputs": [
    {
     "name": "stdout",
     "output_type": "stream",
     "text": [
      "\n",
      "================================Fold1===================================\n",
      "\n",
      " Root Log Mean Squared Error for Validation set is : 0.34284011827363853\n",
      "\n",
      "================================Fold2===================================\n",
      "\n",
      " Root Log Mean Squared Error for Validation set is : 0.3326667599614402\n",
      "\n",
      "================================Fold3===================================\n",
      "\n",
      " Root Log Mean Squared Error for Validation set is : 0.35622215982841143\n",
      "\n",
      "================================Fold4===================================\n",
      "\n",
      " Root Log Mean Squared Error for Validation set is : 0.3488914496498778\n",
      "\n",
      "================================Fold5===================================\n",
      "\n",
      " Root Log Mean Squared Error for Validation set is : 0.3568979522457068\n",
      "\n",
      "\\Root Log Mean Squared Error for oofs is 0.3476209368130033\n",
      "Wall time: 37.3 s\n"
     ]
    }
   ],
   "source": [
    "%%time\n",
    "rf_oofs, rf_preds = cross_val(rf, train_proc, test_proc, features)"
   ]
  },
  {
   "cell_type": "markdown",
   "metadata": {},
   "source": [
    "### Boosting"
   ]
  },
  {
   "cell_type": "markdown",
   "metadata": {},
   "source": [
    "**1. LGBM**"
   ]
  },
  {
   "cell_type": "code",
   "execution_count": 343,
   "metadata": {},
   "outputs": [
    {
     "name": "stdout",
     "output_type": "stream",
     "text": [
      "\n",
      "================================Fold1===================================\n",
      "\n",
      " Root Log Mean Squared Error for Validation set is : 0.3484723404361061\n",
      "\n",
      "================================Fold2===================================\n",
      "\n",
      " Root Log Mean Squared Error for Validation set is : 0.34731473398020823\n",
      "\n",
      "================================Fold3===================================\n",
      "\n",
      " Root Log Mean Squared Error for Validation set is : 0.37665775689720526\n",
      "\n",
      "================================Fold4===================================\n",
      "\n",
      " Root Log Mean Squared Error for Validation set is : 0.35566117991507873\n",
      "\n",
      "================================Fold5===================================\n",
      "\n",
      " Root Log Mean Squared Error for Validation set is : 0.3707447893860798\n",
      "\n",
      "\\Root Log Mean Squared Error for oofs is 0.3599657632797492\n",
      "Wall time: 1.93 s\n"
     ]
    }
   ],
   "source": [
    "%%time\n",
    "lgb_oofs, lgb_preds = cross_val(lgb, train_proc, test_proc, features)"
   ]
  },
  {
   "cell_type": "markdown",
   "metadata": {},
   "source": [
    "**2. XGBoost**"
   ]
  },
  {
   "cell_type": "code",
   "execution_count": 344,
   "metadata": {},
   "outputs": [
    {
     "name": "stdout",
     "output_type": "stream",
     "text": [
      "\n",
      "================================Fold1===================================\n",
      "\n",
      " Root Log Mean Squared Error for Validation set is : 0.32182266646647306\n",
      "\n",
      "================================Fold2===================================\n",
      "\n",
      " Root Log Mean Squared Error for Validation set is : 0.3227833427708908\n",
      "\n",
      "================================Fold3===================================\n",
      "\n",
      " Root Log Mean Squared Error for Validation set is : 0.3386788388475621\n",
      "\n",
      "================================Fold4===================================\n",
      "\n",
      " Root Log Mean Squared Error for Validation set is : 0.3338466854834651\n",
      "\n",
      "================================Fold5===================================\n",
      "\n",
      " Root Log Mean Squared Error for Validation set is : 0.3574092376316847\n",
      "\n",
      "\\Root Log Mean Squared Error for oofs is 0.335158397169678\n",
      "Wall time: 5.41 s\n"
     ]
    }
   ],
   "source": [
    "%%time\n",
    "xgb_oofs, xgb_preds = cross_val(xgb, train_proc, test_proc, features)"
   ]
  },
  {
   "cell_type": "code",
   "execution_count": 345,
   "metadata": {},
   "outputs": [
    {
     "name": "stdout",
     "output_type": "stream",
     "text": [
      "\n",
      "================================Fold1===================================\n",
      "\n",
      " Root Log Mean Squared Error for Validation set is : 0.3371271411207247\n",
      "\n",
      "================================Fold2===================================\n",
      "\n",
      " Root Log Mean Squared Error for Validation set is : 0.3369337548320258\n",
      "\n",
      "================================Fold3===================================\n",
      "\n",
      " Root Log Mean Squared Error for Validation set is : 0.35828892883218955\n",
      "\n",
      "================================Fold4===================================\n",
      "\n",
      " Root Log Mean Squared Error for Validation set is : 0.3497516368129221\n",
      "\n",
      "================================Fold5===================================\n",
      "\n",
      " Root Log Mean Squared Error for Validation set is : 0.35961839663888273\n",
      "\n",
      "\\Root Log Mean Squared Error for oofs is 0.3484825096937802\n",
      "Wall time: 18.4 s\n"
     ]
    }
   ],
   "source": [
    "%%time\n",
    "cat_oofs, cat_preds = cross_val(cat, train_proc, test_proc, features)"
   ]
  },
  {
   "cell_type": "markdown",
   "metadata": {},
   "source": [
    "---\n",
    "# Feature Engineering"
   ]
  },
  {
   "cell_type": "markdown",
   "metadata": {},
   "source": [
    "### 1. Extracting Features"
   ]
  },
  {
   "cell_type": "code",
   "execution_count": 346,
   "metadata": {},
   "outputs": [],
   "source": [
    "df['City'] = df['ADDRESS'].apply(lambda x: x.split(',')[-1])"
   ]
  },
  {
   "cell_type": "code",
   "execution_count": 347,
   "metadata": {},
   "outputs": [],
   "source": [
    "df['Address'] = df['ADDRESS'].apply(lambda x: x.split(',')[0])"
   ]
  },
  {
   "cell_type": "code",
   "execution_count": 348,
   "metadata": {},
   "outputs": [],
   "source": [
    "df.drop('ADDRESS', axis = 1, inplace=True)"
   ]
  },
  {
   "cell_type": "markdown",
   "metadata": {},
   "source": [
    "### 2. Grouping Features"
   ]
  },
  {
   "cell_type": "code",
   "execution_count": 349,
   "metadata": {},
   "outputs": [],
   "source": [
    "df['mean_sqft_per_bhkno'] = df.groupby('BHK_NO.')['SQUARE_FT'].transform('median')\n",
    "df['min_sqft_per_bhkno'] = df.groupby('BHK_NO.')['SQUARE_FT'].transform('min')\n",
    "df['max_sqft_per_bhkno'] = df.groupby('BHK_NO.')['SQUARE_FT'].transform('max')"
   ]
  },
  {
   "cell_type": "code",
   "execution_count": 350,
   "metadata": {},
   "outputs": [],
   "source": [
    "df['mean_sqft_per_location'] = df.groupby('LONGITUDE')['SQUARE_FT'].transform('median')\n",
    "df['min_sqft_per_location'] = df.groupby('LONGITUDE')['SQUARE_FT'].transform('min')\n",
    "df['max_sqft_per_location'] = df.groupby('LONGITUDE')['SQUARE_FT'].transform('max')"
   ]
  },
  {
   "cell_type": "code",
   "execution_count": 351,
   "metadata": {},
   "outputs": [],
   "source": [
    "df['mean_sqft_per_city'] = df.groupby('City')['SQUARE_FT'].transform('median')\n",
    "df['min_sqft_per_city'] = df.groupby('City')['SQUARE_FT'].transform('min')\n",
    "df['max_sqft_per_city'] = df.groupby('City')['SQUARE_FT'].transform('max')"
   ]
  },
  {
   "cell_type": "code",
   "execution_count": 352,
   "metadata": {},
   "outputs": [],
   "source": [
    "df['mean_sqft_per_address'] = df.groupby('Address')['SQUARE_FT'].transform('median')\n",
    "df['min_sqft_per_address'] = df.groupby('Address')['SQUARE_FT'].transform('min')\n",
    "df['max_sqft_per_address'] = df.groupby('Address')['SQUARE_FT'].transform('max')"
   ]
  },
  {
   "cell_type": "markdown",
   "metadata": {},
   "source": [
    "#### Square feet per room"
   ]
  },
  {
   "cell_type": "code",
   "execution_count": 353,
   "metadata": {},
   "outputs": [],
   "source": [
    "df['sqft_per_room'] = df.apply(lambda x: x['SQUARE_FT']/x['BHK_NO.'], axis = 1)"
   ]
  },
  {
   "cell_type": "markdown",
   "metadata": {},
   "source": [
    "#### Price per Square feet in city"
   ]
  },
  {
   "cell_type": "code",
   "execution_count": 354,
   "metadata": {},
   "outputs": [],
   "source": [
    "train['City'] = train['ADDRESS'].apply(lambda x: x.split(',')[-1])\n",
    "test['City'] = test['ADDRESS'].apply(lambda x: x.split(',')[-1])"
   ]
  },
  {
   "cell_type": "code",
   "execution_count": 355,
   "metadata": {},
   "outputs": [
    {
     "data": {
      "text/plain": [
       "(256, 293)"
      ]
     },
     "execution_count": 355,
     "metadata": {},
     "output_type": "execute_result"
    }
   ],
   "source": [
    "train['City'].nunique(),test['City'].nunique()"
   ]
  },
  {
   "cell_type": "code",
   "execution_count": 356,
   "metadata": {},
   "outputs": [],
   "source": [
    "a = np.array(train['City'].unique())\n",
    "b = np.array(test['City'].unique())"
   ]
  },
  {
   "cell_type": "code",
   "execution_count": 373,
   "metadata": {},
   "outputs": [],
   "source": [
    "city_replace = {'Alappuzha' : 'Kochi','Amreli' : 'Rajkot','Azamgarh' : 'Varanasi','Barmer' : 'Jodhpur','Barnala' : 'Ludhiana',\n",
    "                'Bellary': 'Anantapur','Bhilwara' : 'Ajmer','Bhusawal' : 'Dhule','Birbhum' : 'Bardhaman','Bulandshahr' : 'Hapur',\n",
    "                'Burhanpur' : 'Jalgaon','Chittorgarh' : 'Udaipur','Contai' : 'Kharagpur','Dewas' : 'Indore','Dhar' : 'Indore',\n",
    "                'Dhenkanal' : 'Cuttack','Dindigul' : 'Madurai','Firozabad' : 'Agra','Gangtok' : 'Darjeeling','Gorakhpur' : 'Varanasi','Gudivada' : 'Vijayawada',\n",
    "                'Jaisalmer' : 'Jaipur','Jalpaiguri' : 'Siliguri','Jhajjar' : 'Rohtak','Jorhat' : 'Nagaon','Kaithal' : 'Patiala','Karimnagar' : 'Warangal',\n",
    "                'Karur' : 'Salem','Katni' : 'Jabalpur','Kaushambi' : 'Satna','Khandwa' : 'Jalgaon','Kolar' : 'Vellore','Malegaon' : 'Dhule',\n",
    "                'Mancherial' : 'Warangal','Mandsaur' : 'Ujjain','Morena' : 'Gwalior','Namakkal' : 'Salem','Palani' : 'Madurai','Panchmahal' : 'Godhra',\n",
    "                'Patan' : 'Gandhinagar','Pathankot' : 'Jammu','Pollachi' : 'Coimbatore','Purulia' : 'Dhanbad','Raebareli' : 'Lucknow','Rajsamand' : 'Udaipur',\n",
    "                'Ramgarh' : 'Nainital','Rampur' : 'Moradabad','Ratlam' : 'Ujjain','Rupnagar' : 'Chandigarh','Shimoga' : 'Mangalore','Sirsa' : 'Patiala',\n",
    "                'Sivasagar' : 'Dibrugarh','Tezpur' : 'Guwahati','Theni' : 'Madurai','Thiruvarur' : 'Thanjavur','Tiruchengode' : 'Erode',\n",
    "                'Tumkur' : 'Bangalore','Viramgam' : 'Gandhinagar','Wayanad' : 'Ooty'}"
   ]
  },
  {
   "cell_type": "code",
   "execution_count": 374,
   "metadata": {},
   "outputs": [],
   "source": [
    "replace_list = list(np.setdiff1d(b,a))"
   ]
  },
  {
   "cell_type": "code",
   "execution_count": 375,
   "metadata": {},
   "outputs": [],
   "source": [
    "sq_sum = df.groupby('City')['SQUARE_FT'].sum().to_dict()\n",
    "price_sum = df.groupby('City')['TARGET(PRICE_IN_LACS)'].sum().to_dict()"
   ]
  },
  {
   "cell_type": "code",
   "execution_count": 376,
   "metadata": {},
   "outputs": [],
   "source": [
    "df['sq_sum'] = df['City'].apply(lambda x: sq_sum[city_replace[x]] if x in replace_list else sq_sum[x])\n",
    "df['price_sum'] = df['City'].apply(lambda x: price_sum[city_replace[x]] if x in replace_list else price_sum[x])\n",
    "df['price_per_sqft_in_city'] = df['price_sum']/df['sq_sum']\n",
    "\n",
    "df.drop(['sq_sum'], axis = 1, inplace=True)\n",
    "df.drop(['price_sum'], axis = 1, inplace=True)"
   ]
  },
  {
   "cell_type": "code",
   "execution_count": null,
   "metadata": {},
   "outputs": [],
   "source": [
    "#### Min, Max, Median "
   ]
  },
  {
   "cell_type": "code",
   "execution_count": 318,
   "metadata": {},
   "outputs": [],
   "source": [
    "median_price_per_city_dict = train.groupby('City')['TARGET(PRICE_IN_LACS)'].median().to_dict()\n",
    "min_price_per_city_dict = train.groupby('City')['TARGET(PRICE_IN_LACS)'].min().to_dict()\n",
    "max_price_per_city_dict = train.groupby('City')['TARGET(PRICE_IN_LACS)'].max().to_dict()"
   ]
  },
  {
   "cell_type": "code",
   "execution_count": 378,
   "metadata": {},
   "outputs": [],
   "source": [
    "df['med_price_per_city'] = df['City'].apply(lambda x : median_price_per_city_dict[ city_replace[x]] if x in replace_list else median_price_per_city_dict[x])\n",
    "df['min_price_per_city'] = df['City'].apply(lambda x : min_price_per_city_dict[ city_replace[x]] if x in replace_list else min_price_per_city_dict[x])\n",
    "df['max_price_per_city'] = df['City'].apply(lambda x : max_price_per_city_dict[ city_replace[x]] if x in replace_list else max_price_per_city_dict[x])"
   ]
  },
  {
   "cell_type": "markdown",
   "metadata": {},
   "source": [
    "---\n",
    "# Preprocessing"
   ]
  },
  {
   "cell_type": "code",
   "execution_count": 387,
   "metadata": {},
   "outputs": [
    {
     "name": "stdout",
     "output_type": "stream",
     "text": [
      "<class 'pandas.core.frame.DataFrame'>\n",
      "RangeIndex: 98171 entries, 0 to 98170\n",
      "Data columns (total 31 columns):\n",
      " #   Column                  Non-Null Count  Dtype  \n",
      "---  ------                  --------------  -----  \n",
      " 0   UNDER_CONSTRUCTION      98171 non-null  bool   \n",
      " 1   RERA                    98171 non-null  bool   \n",
      " 2   BHK_NO.                 98171 non-null  int8   \n",
      " 3   BHK_OR_RK               98171 non-null  bool   \n",
      " 4   SQUARE_FT               98171 non-null  float32\n",
      " 5   READY_TO_MOVE           98171 non-null  bool   \n",
      " 6   RESALE                  98171 non-null  bool   \n",
      " 7   LONGITUDE               98171 non-null  float32\n",
      " 8   LATITUDE                98171 non-null  float32\n",
      " 9   TARGET(PRICE_IN_LACS)   29451 non-null  float64\n",
      " 10  POSTED_BY_One           98171 non-null  uint8  \n",
      " 11  POSTED_BY_Two           98171 non-null  uint8  \n",
      " 12  City                    98171 non-null  int32  \n",
      " 13  Address                 98171 non-null  int32  \n",
      " 14  mean_sqft_per_bhkno     98171 non-null  float32\n",
      " 15  min_sqft_per_bhkno      98171 non-null  float32\n",
      " 16  max_sqft_per_bhkno      98171 non-null  float32\n",
      " 17  mean_sqft_per_location  98171 non-null  float32\n",
      " 18  min_sqft_per_location   98171 non-null  float32\n",
      " 19  max_sqft_per_location   98171 non-null  float32\n",
      " 20  mean_sqft_per_city      98171 non-null  float32\n",
      " 21  min_sqft_per_city       98171 non-null  float32\n",
      " 22  max_sqft_per_city       98171 non-null  float32\n",
      " 23  mean_sqft_per_address   98171 non-null  float32\n",
      " 24  min_sqft_per_address    98171 non-null  float32\n",
      " 25  max_sqft_per_address    98171 non-null  float32\n",
      " 26  sqft_per_room           98171 non-null  float32\n",
      " 27  price_per_sqft_in_city  98171 non-null  float32\n",
      " 28  med_price_per_city      98171 non-null  float32\n",
      " 29  min_price_per_city      98171 non-null  float32\n",
      " 30  max_price_per_city      98171 non-null  float32\n",
      "dtypes: bool(5), float32(20), float64(1), int32(2), int8(1), uint8(2)\n",
      "memory usage: 9.7 MB\n"
     ]
    }
   ],
   "source": [
    "df.info()"
   ]
  },
  {
   "cell_type": "code",
   "execution_count": 383,
   "metadata": {},
   "outputs": [],
   "source": [
    "col_ls = ['SQUARE_FT', 'LONGITUDE', 'LATITUDE',\n",
    "       'mean_sqft_per_bhkno', 'min_sqft_per_bhkno', 'max_sqft_per_bhkno',\n",
    "       'mean_sqft_per_location', 'min_sqft_per_location',\n",
    "       'max_sqft_per_location', 'mean_sqft_per_city', 'min_sqft_per_city',\n",
    "       'max_sqft_per_city', 'mean_sqft_per_address', 'min_sqft_per_address',\n",
    "       'max_sqft_per_address', 'sqft_per_room', 'price_per_sqft_in_city',\n",
    "       'med_price_per_city', 'min_price_per_city', 'max_price_per_city']\n",
    "\n",
    "\n",
    "for col in col_ls:\n",
    "    df[col] = df[col].astype('float32')"
   ]
  },
  {
   "cell_type": "code",
   "execution_count": 386,
   "metadata": {},
   "outputs": [],
   "source": [
    "df[[ 'City', 'Address']] = df[[ 'City', 'Address']].apply(le.fit_transform)"
   ]
  },
  {
   "cell_type": "markdown",
   "metadata": {},
   "source": [
    "---\n",
    "## Splitting"
   ]
  },
  {
   "cell_type": "code",
   "execution_count": 388,
   "metadata": {},
   "outputs": [],
   "source": [
    "train_proc, test_proc = df[:train.shape[0]], df[train.shape[0]:].reset_index(drop = True)"
   ]
  },
  {
   "cell_type": "code",
   "execution_count": 389,
   "metadata": {},
   "outputs": [],
   "source": [
    "target = 'TARGET(PRICE_IN_LACS)'\n",
    "\n",
    "\n",
    "features = [col for col in df.columns if col not in ([target])]"
   ]
  },
  {
   "cell_type": "code",
   "execution_count": 390,
   "metadata": {},
   "outputs": [],
   "source": [
    "trn, val = train_test_split(train_proc, test_size = 0.2, random_state = 1999)\n",
    "\n",
    "##### Input for model\n",
    "X_trn, X_val = trn[features], val[features]\n",
    "\n",
    "##### Target column\n",
    "y_trn, y_val = trn[target], val[target]\n",
    "\n",
    "##### Features for test data that we will be predicting\n",
    "X_test = test_proc[features]\n",
    "\n"
   ]
  },
  {
   "cell_type": "code",
   "execution_count": 391,
   "metadata": {},
   "outputs": [
    {
     "name": "stdout",
     "output_type": "stream",
     "text": [
      "mean_squared_log_error is : 0.4021295145662708\n",
      "Wall time: 349 ms\n"
     ]
    }
   ],
   "source": [
    "%%time\n",
    "\n",
    "dt = DecisionTreeRegressor()\n",
    "\n",
    "dt.fit(X_trn, y_trn)\n",
    "\n",
    "preds = dt.predict(X_val)\n",
    "preds = np.abs(preds)\n",
    "\n",
    "error = np.sqrt(mean_squared_error(y_val, preds))\n",
    "\n",
    "print(f'mean_squared_log_error is : {error}')"
   ]
  },
  {
   "cell_type": "code",
   "execution_count": 392,
   "metadata": {},
   "outputs": [
    {
     "name": "stdout",
     "output_type": "stream",
     "text": [
      "mean_squared_log_error is : 0.28642964347876565\n",
      "Wall time: 18.8 s\n"
     ]
    }
   ],
   "source": [
    "%%time\n",
    "\n",
    "rf = RandomForestRegressor()\n",
    "\n",
    "rf.fit(X_trn, y_trn)\n",
    "\n",
    "preds = rf.predict(X_val)\n",
    "preds = np.abs(preds)\n",
    "\n",
    "error = np.sqrt(mean_squared_error(y_val, preds))\n",
    "\n",
    "print(f'mean_squared_log_error is : {error}')"
   ]
  },
  {
   "cell_type": "code",
   "execution_count": 834,
   "metadata": {},
   "outputs": [
    {
     "name": "stdout",
     "output_type": "stream",
     "text": [
      "mean_squared_log_error is : 0.3088388225088558\n",
      "Wall time: 339 ms\n"
     ]
    }
   ],
   "source": [
    "%%time\n",
    "lgb = LGBMRegressor()\n",
    "\n",
    "lgb.fit(X_trn, y_trn)\n",
    "\n",
    "preds = lgb.predict(X_val)\n",
    "preds = np.abs(preds)\n",
    "\n",
    "error = np.sqrt(mean_squared_error(y_val, preds))\n",
    "\n",
    "print(f'mean_squared_log_error is : {error}')\n"
   ]
  },
  {
   "cell_type": "code",
   "execution_count": 393,
   "metadata": {},
   "outputs": [
    {
     "name": "stdout",
     "output_type": "stream",
     "text": [
      "mean_squared_log_error is : 0.29969891827075984\n",
      "Wall time: 1.34 s\n"
     ]
    }
   ],
   "source": [
    "%%time\n",
    "\n",
    "xgb = XGBRegressor()\n",
    "\n",
    "xgb.fit(X_trn, y_trn)\n",
    "preds = xgb.predict(X_val)\n",
    "preds = np.abs(preds)\n",
    "\n",
    "error = np.sqrt(mean_squared_error(y_val, preds))\n",
    "\n",
    "print(f'mean_squared_log_error is : {error}')"
   ]
  },
  {
   "cell_type": "code",
   "execution_count": 394,
   "metadata": {},
   "outputs": [
    {
     "name": "stdout",
     "output_type": "stream",
     "text": [
      "mean_squared_log_error is : 0.2859229158045891\n",
      "Wall time: 4.57 s\n"
     ]
    }
   ],
   "source": [
    "%%time\n",
    "\n",
    "cat = CatBoostRegressor(verbose = False)\n",
    "\n",
    "cat.fit(X_trn, y_trn)\n",
    "preds = cat.predict(X_val)\n",
    "preds = np.abs(preds)\n",
    "\n",
    "error = np.sqrt(mean_squared_error(y_val, preds))\n",
    "\n",
    "print(f'mean_squared_log_error is : {error}')"
   ]
  },
  {
   "cell_type": "markdown",
   "metadata": {},
   "source": [
    "---\n",
    "# Cross Val"
   ]
  },
  {
   "cell_type": "code",
   "execution_count": 837,
   "metadata": {},
   "outputs": [
    {
     "name": "stdout",
     "output_type": "stream",
     "text": [
      "\n",
      "================================Fold1===================================\n",
      "\n",
      " Root Log Mean Squared Error for Validation set is : 0.28109878401683447\n",
      "\n",
      "================================Fold2===================================\n",
      "\n",
      " Root Log Mean Squared Error for Validation set is : 0.3144883606594597\n",
      "\n",
      "================================Fold3===================================\n",
      "\n",
      " Root Log Mean Squared Error for Validation set is : 0.29161293421758777\n",
      "\n",
      "================================Fold4===================================\n",
      "\n",
      " Root Log Mean Squared Error for Validation set is : 0.31927025627794464\n",
      "\n",
      "================================Fold5===================================\n",
      "\n",
      " Root Log Mean Squared Error for Validation set is : 0.30642988378073327\n",
      "\n",
      "\\Root Log Mean Squared Error for oofs is 0.3029152243815559\n",
      "Wall time: 1min 27s\n"
     ]
    }
   ],
   "source": [
    "%%time\n",
    "rf_oofs, rf_preds = cross_val(rf, train_proc, test_proc, features)"
   ]
  },
  {
   "cell_type": "code",
   "execution_count": 838,
   "metadata": {},
   "outputs": [
    {
     "name": "stdout",
     "output_type": "stream",
     "text": [
      "\n",
      "================================Fold1===================================\n",
      "\n",
      " Root Log Mean Squared Error for Validation set is : 0.3092731366054101\n",
      "\n",
      "================================Fold2===================================\n",
      "\n",
      " Root Log Mean Squared Error for Validation set is : 0.3259194776669862\n",
      "\n",
      "================================Fold3===================================\n",
      "\n",
      " Root Log Mean Squared Error for Validation set is : 0.30053182891492913\n",
      "\n",
      "================================Fold4===================================\n",
      "\n",
      " Root Log Mean Squared Error for Validation set is : 0.3130088626323364\n",
      "\n",
      "================================Fold5===================================\n",
      "\n",
      " Root Log Mean Squared Error for Validation set is : 0.3214032132826307\n",
      "\n",
      "\\Root Log Mean Squared Error for oofs is 0.3141549986909707\n",
      "Wall time: 3.65 s\n"
     ]
    }
   ],
   "source": [
    "%%time\n",
    "lgb_oofs, lgb_preds = cross_val(lgb, train_proc, test_proc, features)"
   ]
  },
  {
   "cell_type": "code",
   "execution_count": 395,
   "metadata": {},
   "outputs": [
    {
     "name": "stdout",
     "output_type": "stream",
     "text": [
      "\n",
      "================================Fold1===================================\n",
      "\n",
      " Root Log Mean Squared Error for Validation set is : 0.28086419797355705\n",
      "\n",
      "================================Fold2===================================\n",
      "\n",
      " Root Log Mean Squared Error for Validation set is : 0.28763420869344763\n",
      "\n",
      "================================Fold3===================================\n",
      "\n",
      " Root Log Mean Squared Error for Validation set is : 0.29248491873614024\n",
      "\n",
      "================================Fold4===================================\n",
      "\n",
      " Root Log Mean Squared Error for Validation set is : 0.28324617440006605\n",
      "\n",
      "================================Fold5===================================\n",
      "\n",
      " Root Log Mean Squared Error for Validation set is : 0.3043479772967508\n",
      "\n",
      "\\Root Log Mean Squared Error for oofs is 0.28983470489953783\n",
      "Wall time: 8.61 s\n"
     ]
    }
   ],
   "source": [
    "%%time\n",
    "xgb_oofs, xgb_preds = cross_val(xgb, train_proc, test_proc, features)"
   ]
  },
  {
   "cell_type": "code",
   "execution_count": 396,
   "metadata": {},
   "outputs": [
    {
     "name": "stdout",
     "output_type": "stream",
     "text": [
      "\n",
      "================================Fold1===================================\n",
      "\n",
      " Root Log Mean Squared Error for Validation set is : 0.277304751673701\n",
      "\n",
      "================================Fold2===================================\n",
      "\n",
      " Root Log Mean Squared Error for Validation set is : 0.2795872801212191\n",
      "\n",
      "================================Fold3===================================\n",
      "\n",
      " Root Log Mean Squared Error for Validation set is : 0.29392066212069673\n",
      "\n",
      "================================Fold4===================================\n",
      "\n",
      " Root Log Mean Squared Error for Validation set is : 0.28175516256125077\n",
      "\n",
      "================================Fold5===================================\n",
      "\n",
      " Root Log Mean Squared Error for Validation set is : 0.2926742303100897\n",
      "\n",
      "\\Root Log Mean Squared Error for oofs is 0.2851314635295498\n",
      "Wall time: 23.9 s\n"
     ]
    }
   ],
   "source": [
    "%%time\n",
    "cat_oofs, cat_preds = cross_val(cat, train_proc, test_proc, features)"
   ]
  },
  {
   "cell_type": "markdown",
   "metadata": {},
   "source": [
    "---\n",
    "# Hyperparameter Tuning"
   ]
  },
  {
   "cell_type": "markdown",
   "metadata": {},
   "source": [
    "## 1. Random Forest"
   ]
  },
  {
   "cell_type": "code",
   "execution_count": 397,
   "metadata": {},
   "outputs": [
    {
     "name": "stderr",
     "output_type": "stream",
     "text": [
      "[I 2020-10-16 15:59:45,747] A new study created in memory with name: no-name-6e51224a-c944-47dc-a5ab-58e18dd70a73\n",
      "[I 2020-10-16 15:59:56,669] Trial 0 finished with value: 0.08533488738400027 and parameters: {'max_depth': 14, 'n_estimators': 547, 'min_samples_split': 7}. Best is trial 0 with value: 0.08533488738400027.\n",
      "[I 2020-10-16 16:00:00,398] Trial 1 finished with value: 0.36532060981365255 and parameters: {'max_depth': 2, 'n_estimators': 823, 'min_samples_split': 5}. Best is trial 0 with value: 0.08533488738400027.\n",
      "[I 2020-10-16 16:00:08,613] Trial 2 finished with value: 0.162094415303273 and parameters: {'max_depth': 5, 'n_estimators': 859, 'min_samples_split': 3}. Best is trial 0 with value: 0.08533488738400027.\n",
      "[I 2020-10-16 16:00:34,194] Trial 3 finished with value: 0.08192605875200858 and parameters: {'max_depth': 21, 'n_estimators': 777, 'min_samples_split': 4}. Best is trial 3 with value: 0.08192605875200858.\n",
      "[I 2020-10-16 16:00:42,578] Trial 4 finished with value: 0.13881954592502754 and parameters: {'max_depth': 6, 'n_estimators': 587, 'min_samples_split': 2}. Best is trial 3 with value: 0.08192605875200858.\n",
      "[I 2020-10-16 16:01:15,679] Trial 5 finished with value: 0.08200566541813871 and parameters: {'max_depth': 26, 'n_estimators': 896, 'min_samples_split': 4}. Best is trial 3 with value: 0.08192605875200858.\n",
      "[I 2020-10-16 16:01:23,480] Trial 6 finished with value: 0.25474658506225273 and parameters: {'max_depth': 3, 'n_estimators': 986, 'min_samples_split': 2}. Best is trial 3 with value: 0.08192605875200858.\n",
      "[I 2020-10-16 16:01:46,723] Trial 7 finished with value: 0.08206381785006667 and parameters: {'max_depth': 19, 'n_estimators': 665, 'min_samples_split': 3}. Best is trial 3 with value: 0.08192605875200858.\n",
      "[I 2020-10-16 16:02:06,046] Trial 8 finished with value: 0.08350129266826092 and parameters: {'max_depth': 15, 'n_estimators': 572, 'min_samples_split': 3}. Best is trial 3 with value: 0.08192605875200858.\n",
      "[I 2020-10-16 16:02:33,410] Trial 9 finished with value: 0.08180636550453407 and parameters: {'max_depth': 22, 'n_estimators': 615, 'min_samples_split': 2}. Best is trial 9 with value: 0.08180636550453407.\n",
      "[I 2020-10-16 16:02:58,939] Trial 10 finished with value: 0.08222390444621258 and parameters: {'max_depth': 29, 'n_estimators': 672, 'min_samples_split': 6}. Best is trial 9 with value: 0.08180636550453407.\n",
      "[I 2020-10-16 16:03:27,527] Trial 11 finished with value: 0.08199525041494414 and parameters: {'max_depth': 22, 'n_estimators': 743, 'min_samples_split': 5}. Best is trial 9 with value: 0.08180636550453407.\n",
      "[I 2020-10-16 16:03:54,749] Trial 12 finished with value: 0.0821003240607115 and parameters: {'max_depth': 22, 'n_estimators': 709, 'min_samples_split': 4}. Best is trial 9 with value: 0.08180636550453407.\n",
      "[I 2020-10-16 16:04:12,214] Trial 13 finished with value: 0.09702164704815545 and parameters: {'max_depth': 10, 'n_estimators': 780, 'min_samples_split': 2}. Best is trial 9 with value: 0.08180636550453407.\n",
      "[I 2020-10-16 16:04:44,971] Trial 14 finished with value: 0.08217700197575227 and parameters: {'max_depth': 26, 'n_estimators': 925, 'min_samples_split': 6}. Best is trial 9 with value: 0.08180636550453407.\n",
      "[I 2020-10-16 16:05:05,888] Trial 15 finished with value: 0.08199016953155008 and parameters: {'max_depth': 19, 'n_estimators': 631, 'min_samples_split': 4}. Best is trial 9 with value: 0.08180636550453407.\n",
      "[I 2020-10-16 16:05:23,742] Trial 16 finished with value: 0.08189283943754071 and parameters: {'max_depth': 30, 'n_estimators': 502, 'min_samples_split': 3}. Best is trial 9 with value: 0.08180636550453407.\n",
      "[I 2020-10-16 16:05:41,548] Trial 17 finished with value: 0.08186984170786156 and parameters: {'max_depth': 29, 'n_estimators': 504, 'min_samples_split': 3}. Best is trial 9 with value: 0.08180636550453407.\n",
      "[I 2020-10-16 16:05:59,875] Trial 18 finished with value: 0.08179983271940415 and parameters: {'max_depth': 26, 'n_estimators': 505, 'min_samples_split': 2}. Best is trial 18 with value: 0.08179983271940415.\n",
      "[I 2020-10-16 16:06:21,577] Trial 19 finished with value: 0.08193324252014726 and parameters: {'max_depth': 25, 'n_estimators': 612, 'min_samples_split': 2}. Best is trial 18 with value: 0.08179983271940415.\n",
      "[I 2020-10-16 16:06:40,324] Trial 20 finished with value: 0.08182877752903611 and parameters: {'max_depth': 24, 'n_estimators': 527, 'min_samples_split': 2}. Best is trial 18 with value: 0.08179983271940415.\n",
      "[I 2020-10-16 16:06:59,283] Trial 21 finished with value: 0.0818956333468829 and parameters: {'max_depth': 25, 'n_estimators': 536, 'min_samples_split': 2}. Best is trial 18 with value: 0.08179983271940415.\n",
      "[I 2020-10-16 16:07:15,553] Trial 22 finished with value: 0.08187729955093727 and parameters: {'max_depth': 19, 'n_estimators': 504, 'min_samples_split': 2}. Best is trial 18 with value: 0.08179983271940415.\n",
      "[I 2020-10-16 16:07:34,078] Trial 23 finished with value: 0.08172235600432984 and parameters: {'max_depth': 23, 'n_estimators': 542, 'min_samples_split': 2}. Best is trial 23 with value: 0.08172235600432984.\n",
      "[I 2020-10-16 16:07:54,738] Trial 24 finished with value: 0.08203489042479026 and parameters: {'max_depth': 28, 'n_estimators': 631, 'min_samples_split': 3}. Best is trial 23 with value: 0.08172235600432984.\n",
      "[I 2020-10-16 16:08:12,607] Trial 25 finished with value: 0.08232374164526525 and parameters: {'max_depth': 17, 'n_estimators': 565, 'min_samples_split': 2}. Best is trial 23 with value: 0.08172235600432984.\n",
      "[I 2020-10-16 16:08:33,173] Trial 26 finished with value: 0.08178423821169203 and parameters: {'max_depth': 22, 'n_estimators': 596, 'min_samples_split': 3}. Best is trial 23 with value: 0.08172235600432984.\n",
      "[I 2020-10-16 16:08:55,830] Trial 27 finished with value: 0.08212751622749662 and parameters: {'max_depth': 23, 'n_estimators': 668, 'min_samples_split': 3}. Best is trial 23 with value: 0.08172235600432984.\n",
      "[I 2020-10-16 16:09:12,893] Trial 28 finished with value: 0.08198147355225843 and parameters: {'max_depth': 27, 'n_estimators': 500, 'min_samples_split': 3}. Best is trial 23 with value: 0.08172235600432984.\n",
      "[I 2020-10-16 16:09:25,323] Trial 29 finished with value: 0.08940250160103899 and parameters: {'max_depth': 12, 'n_estimators': 538, 'min_samples_split': 7}. Best is trial 23 with value: 0.08172235600432984.\n"
     ]
    },
    {
     "name": "stdout",
     "output_type": "stream",
     "text": [
      "Optimized LightGBM roc_auc_score 0.08172235600432984\n"
     ]
    }
   ],
   "source": [
    "import optuna\n",
    "from optuna.samplers import TPESampler\n",
    "\n",
    "def create_model(trial):\n",
    "    max_depth = trial.suggest_int(\"max_depth\", 2, 30)\n",
    "    n_estimators = trial.suggest_int(\"n_estimators\", 500, 1000)\n",
    "    min_samples_split = trial.suggest_int(\"min_samples_split\", 2, 7)\n",
    "    model = RandomForestRegressor( \n",
    "        max_depth=max_depth,\n",
    "        n_estimators = n_estimators,\n",
    "        min_samples_split = min_samples_split,\n",
    "        random_state=0,\n",
    "        n_jobs = -1\n",
    "    )\n",
    "    return model\n",
    "\n",
    "sampler = TPESampler(seed=0)\n",
    "def objective(trial):\n",
    "    model = create_model(trial)\n",
    "    model.fit(X_trn, y_trn)\n",
    "    preds = model.predict(X_val)\n",
    "    score = mean_squared_error(y_val,preds)\n",
    "    return score\n",
    "\n",
    "study = optuna.create_study(direction=\"minimize\", sampler=sampler)\n",
    "study.optimize(objective, n_trials=30)\n",
    "\n",
    "rf_params = study.best_params\n",
    "rf_params['random_state'] = 0\n",
    "rf = RandomForestRegressor(**rf_params)\n",
    "rf.fit(X_trn, y_trn)\n",
    "preds = rf.predict(X_val)\n",
    "print('Optimized LightGBM roc_auc_score', mean_squared_error(y_val, preds))"
   ]
  },
  {
   "cell_type": "markdown",
   "metadata": {},
   "source": [
    "## 2. LGBM"
   ]
  },
  {
   "cell_type": "code",
   "execution_count": 398,
   "metadata": {},
   "outputs": [
    {
     "name": "stderr",
     "output_type": "stream",
     "text": [
      "[I 2020-10-16 16:11:05,078] A new study created in memory with name: no-name-3c9d7cf8-0b88-4d95-812d-fabab4098a26\n",
      "[I 2020-10-16 16:11:11,161] Trial 0 finished with value: 0.311314171871366 and parameters: {'max_depth': 14, 'learning_rate': 0.6335601564025165, 'num_leaves': 3266, 'colsample_bytree': 0.5822107008573151, 'min_child_samples': 198, 'reg_alpha': 360, 'reg_lambda': 10}. Best is trial 0 with value: 0.311314171871366.\n",
      "[I 2020-10-16 16:11:34,196] Trial 1 finished with value: 0.3276713231655326 and parameters: {'max_depth': 21, 'learning_rate': 0.6813047017599905, 'num_leaves': 3470, 'colsample_bytree': 0.40675321506062223, 'min_child_samples': 42, 'reg_alpha': 88, 'reg_lambda': 175}. Best is trial 0 with value: 0.311314171871366.\n",
      "[I 2020-10-16 16:12:02,229] Trial 2 finished with value: 0.31707755478589345 and parameters: {'max_depth': 26, 'learning_rate': 0.4535063164907468, 'num_leaves': 539, 'colsample_bytree': 0.15682884655830956, 'min_child_samples': 12, 'reg_alpha': 917, 'reg_lambda': 116}. Best is trial 0 with value: 0.311314171871366.\n",
      "[I 2020-10-16 16:12:10,367] Trial 3 finished with value: 0.3196226974715601 and parameters: {'max_depth': 18, 'learning_rate': 0.8493578609931441, 'num_leaves': 2048, 'colsample_bytree': 0.21228062433011613, 'min_child_samples': 195, 'reg_alpha': 851, 'reg_lambda': 100}. Best is trial 0 with value: 0.311314171871366.\n",
      "[I 2020-10-16 16:12:26,499] Trial 4 finished with value: 0.3237530387286747 and parameters: {'max_depth': 26, 'learning_rate': 0.8208196767816798, 'num_leaves': 799, 'colsample_bytree': 0.7244233410291644, 'min_child_samples': 145, 'reg_alpha': 424, 'reg_lambda': 289}. Best is trial 0 with value: 0.311314171871366.\n",
      "[I 2020-10-16 16:12:28,081] Trial 5 finished with value: 0.2898539548381179 and parameters: {'max_depth': 3, 'learning_rate': 0.22901795866814179, 'num_leaves': 4737, 'colsample_bytree': 0.7068924994578858, 'min_child_samples': 154, 'reg_alpha': 676, 'reg_lambda': 511}. Best is trial 5 with value: 0.2898539548381179.\n",
      "[I 2020-10-16 16:12:34,333] Trial 6 finished with value: 0.3139568016480867 and parameters: {'max_depth': 13, 'learning_rate': 0.7632263594160623, 'num_leaves': 804, 'colsample_bytree': 0.20817453872436165, 'min_child_samples': 167, 'reg_alpha': 54, 'reg_lambda': 902}. Best is trial 5 with value: 0.2898539548381179.\n",
      "[I 2020-10-16 16:12:37,349] Trial 7 finished with value: 0.2849936711923267 and parameters: {'max_depth': 8, 'learning_rate': 0.3000892494264289, 'num_leaves': 4371, 'colsample_bytree': 0.8549984628116993, 'min_child_samples': 108, 'reg_alpha': 43, 'reg_lambda': 443}. Best is trial 7 with value: 0.2849936711923267.\n",
      "[I 2020-10-16 16:13:03,408] Trial 8 finished with value: 0.34890001475792165 and parameters: {'max_depth': 26, 'learning_rate': 0.9121137248565858, 'num_leaves': 4073, 'colsample_bytree': 0.14818037730341588, 'min_child_samples': 38, 'reg_alpha': 871, 'reg_lambda': 120}. Best is trial 7 with value: 0.2849936711923267.\n",
      "[I 2020-10-16 16:13:10,564] Trial 9 finished with value: 0.2871922519117363 and parameters: {'max_depth': 13, 'learning_rate': 0.2893443049664568, 'num_leaves': 4189, 'colsample_bytree': 0.700548912974765, 'min_child_samples': 102, 'reg_alpha': 566, 'reg_lambda': 909}. Best is trial 7 with value: 0.2849936711923267.\n",
      "[I 2020-10-16 16:13:12,731] Trial 10 finished with value: 0.2907976367490713 and parameters: {'max_depth': 4, 'learning_rate': 0.40637617277628824, 'num_leaves': 2135, 'colsample_bytree': 0.8437122840222644, 'min_child_samples': 95, 'reg_alpha': 240, 'reg_lambda': 556}. Best is trial 7 with value: 0.2849936711923267.\n",
      "[I 2020-10-16 16:13:17,677] Trial 11 finished with value: 0.2798518156957618 and parameters: {'max_depth': 9, 'learning_rate': 0.15627297557551695, 'num_leaves': 4757, 'colsample_bytree': 0.879151865117857, 'min_child_samples': 102, 'reg_alpha': 558, 'reg_lambda': 808}. Best is trial 11 with value: 0.2798518156957618.\n",
      "[I 2020-10-16 16:13:21,448] Trial 12 finished with value: 0.278836275510599 and parameters: {'max_depth': 7, 'learning_rate': 0.13649737519428148, 'num_leaves': 4999, 'colsample_bytree': 0.8979972391297398, 'min_child_samples': 104, 'reg_alpha': 691, 'reg_lambda': 363}. Best is trial 12 with value: 0.278836275510599.\n",
      "[I 2020-10-16 16:13:24,480] Trial 13 finished with value: 0.27895575063041966 and parameters: {'max_depth': 8, 'learning_rate': 0.12506012718260956, 'num_leaves': 4948, 'colsample_bytree': 0.8958145345043801, 'min_child_samples': 77, 'reg_alpha': 706, 'reg_lambda': 722}. Best is trial 12 with value: 0.278836275510599.\n",
      "[I 2020-10-16 16:13:27,818] Trial 14 finished with value: 0.2759213411038924 and parameters: {'max_depth': 7, 'learning_rate': 0.12280610140484097, 'num_leaves': 3149, 'colsample_bytree': 0.3890146097097733, 'min_child_samples': 71, 'reg_alpha': 715, 'reg_lambda': 700}. Best is trial 14 with value: 0.2759213411038924.\n",
      "[I 2020-10-16 16:13:28,970] Trial 15 finished with value: 0.31176224399716873 and parameters: {'max_depth': 2, 'learning_rate': 0.10295382850507648, 'num_leaves': 2897, 'colsample_bytree': 0.38707303382091823, 'min_child_samples': 63, 'reg_alpha': 726, 'reg_lambda': 648}. Best is trial 14 with value: 0.2759213411038924.\n",
      "[I 2020-10-16 16:13:32,667] Trial 16 finished with value: 0.2946380285873667 and parameters: {'max_depth': 8, 'learning_rate': 0.42778703681687713, 'num_leaves': 1508, 'colsample_bytree': 0.34269032231204277, 'min_child_samples': 127, 'reg_alpha': 766, 'reg_lambda': 385}. Best is trial 14 with value: 0.2759213411038924.\n",
      "[I 2020-10-16 16:13:34,910] Trial 17 finished with value: 0.2768499791809016 and parameters: {'max_depth': 5, 'learning_rate': 0.18703820149445927, 'num_leaves': 3566, 'colsample_bytree': 0.5218974879018496, 'min_child_samples': 62, 'reg_alpha': 973, 'reg_lambda': 302}. Best is trial 14 with value: 0.2759213411038924.\n",
      "[I 2020-10-16 16:13:37,005] Trial 18 finished with value: 0.27923905207699373 and parameters: {'max_depth': 5, 'learning_rate': 0.22837306022096776, 'num_leaves': 3471, 'colsample_bytree': 0.5379078740431714, 'min_child_samples': 11, 'reg_alpha': 968, 'reg_lambda': 631}. Best is trial 14 with value: 0.2759213411038924.\n",
      "[I 2020-10-16 16:13:46,959] Trial 19 finished with value: 0.3088521096227996 and parameters: {'max_depth': 11, 'learning_rate': 0.5640845896025571, 'num_leaves': 2479, 'colsample_bytree': 0.46516693015808763, 'min_child_samples': 52, 'reg_alpha': 999, 'reg_lambda': 261}. Best is trial 14 with value: 0.2759213411038924.\n",
      "[I 2020-10-16 16:14:17,067] Trial 20 finished with value: 0.29519458142513144 and parameters: {'max_depth': 18, 'learning_rate': 0.3333791490305168, 'num_leaves': 3730, 'colsample_bytree': 0.2911339961948346, 'min_child_samples': 23, 'reg_alpha': 816, 'reg_lambda': 755}. Best is trial 14 with value: 0.2759213411038924.\n",
      "[I 2020-10-16 16:14:20,215] Trial 21 finished with value: 0.2795993213676128 and parameters: {'max_depth': 6, 'learning_rate': 0.19581697856744273, 'num_leaves': 2660, 'colsample_bytree': 0.5915651190223834, 'min_child_samples': 73, 'reg_alpha': 614, 'reg_lambda': 346}. Best is trial 14 with value: 0.2759213411038924.\n",
      "[I 2020-10-16 16:14:21,239] Trial 22 finished with value: 0.30718325244509287 and parameters: {'max_depth': 2, 'learning_rate': 0.1355407493531302, 'num_leaves': 2945, 'colsample_bytree': 0.46096352674683744, 'min_child_samples': 87, 'reg_alpha': 435, 'reg_lambda': 407}. Best is trial 14 with value: 0.2759213411038924.\n",
      "[I 2020-10-16 16:14:23,650] Trial 23 finished with value: 0.28174962470470255 and parameters: {'max_depth': 6, 'learning_rate': 0.1016481807637073, 'num_leaves': 3800, 'colsample_bytree': 0.3239306474868417, 'min_child_samples': 119, 'reg_alpha': 643, 'reg_lambda': 280}. Best is trial 14 with value: 0.2759213411038924.\n",
      "[I 2020-10-16 16:14:30,781] Trial 24 finished with value: 0.29454311825380863 and parameters: {'max_depth': 11, 'learning_rate': 0.3680012507747131, 'num_leaves': 1503, 'colsample_bytree': 0.784823725284476, 'min_child_samples': 81, 'reg_alpha': 780, 'reg_lambda': 521}. Best is trial 14 with value: 0.2759213411038924.\n",
      "[I 2020-10-16 16:14:36,060] Trial 25 finished with value: 0.28433429003931066 and parameters: {'max_depth': 10, 'learning_rate': 0.23703716937254413, 'num_leaves': 3147, 'colsample_bytree': 0.6182000139247696, 'min_child_samples': 59, 'reg_alpha': 935, 'reg_lambda': 635}. Best is trial 14 with value: 0.2759213411038924.\n",
      "[I 2020-10-16 16:14:38,252] Trial 26 finished with value: 0.29370575894271767 and parameters: {'max_depth': 6, 'learning_rate': 0.5195221996304304, 'num_leaves': 4445, 'colsample_bytree': 0.28446699560749245, 'min_child_samples': 118, 'reg_alpha': 507, 'reg_lambda': 1000}. Best is trial 14 with value: 0.2759213411038924.\n",
      "[I 2020-10-16 16:14:39,465] Trial 27 finished with value: 0.30166801460820697 and parameters: {'max_depth': 2, 'learning_rate': 0.19139502770298253, 'num_leaves': 3848, 'colsample_bytree': 0.5120010003144566, 'min_child_samples': 29, 'reg_alpha': 886, 'reg_lambda': 230}. Best is trial 14 with value: 0.2759213411038924.\n",
      "[I 2020-10-16 16:14:50,674] Trial 28 finished with value: 0.29036924686391763 and parameters: {'max_depth': 16, 'learning_rate': 0.2727130711036698, 'num_leaves': 2163, 'colsample_bytree': 0.4140362842047796, 'min_child_samples': 66, 'reg_alpha': 995, 'reg_lambda': 459}. Best is trial 14 with value: 0.2759213411038924.\n",
      "[I 2020-10-16 16:14:52,222] Trial 29 finished with value: 0.27841884910780645 and parameters: {'max_depth': 4, 'learning_rate': 0.16822912227697312, 'num_leaves': 3204, 'colsample_bytree': 0.6638108404665761, 'min_child_samples': 50, 'reg_alpha': 263, 'reg_lambda': 338}. Best is trial 14 with value: 0.2759213411038924.\n",
      "[I 2020-10-16 16:14:53,792] Trial 30 finished with value: 0.2912705459539137 and parameters: {'max_depth': 4, 'learning_rate': 0.516793042075374, 'num_leaves': 3207, 'colsample_bytree': 0.647021155650025, 'min_child_samples': 48, 'reg_alpha': 354, 'reg_lambda': 590}. Best is trial 14 with value: 0.2759213411038924.\n",
      "[I 2020-10-16 16:14:56,170] Trial 31 finished with value: 0.27498958832466447 and parameters: {'max_depth': 7, 'learning_rate': 0.105336258395713, 'num_leaves': 3473, 'colsample_bytree': 0.5601150801108026, 'min_child_samples': 88, 'reg_alpha': 150, 'reg_lambda': 321}. Best is trial 31 with value: 0.27498958832466447.\n",
      "[I 2020-10-16 16:15:20,265] Trial 32 finished with value: 0.2909267545749814 and parameters: {'max_depth': 30, 'learning_rate': 0.1762345347788617, 'num_leaves': 3625, 'colsample_bytree': 0.5497861381961406, 'min_child_samples': 35, 'reg_alpha': 267, 'reg_lambda': 219}. Best is trial 31 with value: 0.27498958832466447.\n",
      "[I 2020-10-16 16:15:22,267] Trial 33 finished with value: 0.28259727644594324 and parameters: {'max_depth': 5, 'learning_rate': 0.11212998257090462, 'num_leaves': 3353, 'colsample_bytree': 0.6335208239197935, 'min_child_samples': 87, 'reg_alpha': 199, 'reg_lambda': 319}. Best is trial 31 with value: 0.27498958832466447.\n",
      "[I 2020-10-16 16:15:28,503] Trial 34 finished with value: 0.2783183913536924 and parameters: {'max_depth': 11, 'learning_rate': 0.10170935254560214, 'num_leaves': 2608, 'colsample_bytree': 0.461294300813219, 'min_child_samples': 52, 'reg_alpha': 169, 'reg_lambda': 167}. Best is trial 31 with value: 0.27498958832466447.\n",
      "[I 2020-10-16 16:15:39,150] Trial 35 finished with value: 0.32094709450366665 and parameters: {'max_depth': 12, 'learning_rate': 0.6939543628941589, 'num_leaves': 2432, 'colsample_bytree': 0.4582561531769318, 'min_child_samples': 68, 'reg_alpha': 174, 'reg_lambda': 164}. Best is trial 31 with value: 0.27498958832466447.\n",
      "[I 2020-10-16 16:15:58,867] Trial 36 finished with value: 0.2825725936988648 and parameters: {'max_depth': 16, 'learning_rate': 0.10472161132579313, 'num_leaves': 2811, 'colsample_bytree': 0.40123202370725874, 'min_child_samples': 20, 'reg_alpha': 109, 'reg_lambda': 26}. Best is trial 31 with value: 0.27498958832466447.\n",
      "[I 2020-10-16 16:16:19,729] Trial 37 finished with value: 0.2934731918954809 and parameters: {'max_depth': 10, 'learning_rate': 0.25072120164879647, 'num_leaves': 1786, 'colsample_bytree': 0.5798159261346993, 'min_child_samples': 3, 'reg_alpha': 344, 'reg_lambda': 54}. Best is trial 31 with value: 0.27498958832466447.\n",
      "[I 2020-10-16 16:16:26,734] Trial 38 finished with value: 0.3520085401460601 and parameters: {'max_depth': 9, 'learning_rate': 0.9997530296618603, 'num_leaves': 4043, 'colsample_bytree': 0.4973463451879839, 'min_child_samples': 58, 'reg_alpha': 129, 'reg_lambda': 175}. Best is trial 31 with value: 0.27498958832466447.\n",
      "[I 2020-10-16 16:16:36,584] Trial 39 finished with value: 0.2924777475978591 and parameters: {'max_depth': 14, 'learning_rate': 0.3368158944669737, 'num_leaves': 3467, 'colsample_bytree': 0.3689393418655763, 'min_child_samples': 84, 'reg_alpha': 417, 'reg_lambda': 106}. Best is trial 31 with value: 0.27498958832466447.\n",
      "[I 2020-10-16 16:16:40,396] Trial 40 finished with value: 0.2810814078016985 and parameters: {'max_depth': 7, 'learning_rate': 0.20744024852036638, 'num_leaves': 3030, 'colsample_bytree': 0.43467653858645117, 'min_child_samples': 39, 'reg_alpha': 309, 'reg_lambda': 454}. Best is trial 31 with value: 0.27498958832466447.\n",
      "[I 2020-10-16 16:16:42,682] Trial 41 finished with value: 0.2810781167542886 and parameters: {'max_depth': 4, 'learning_rate': 0.16245672203037537, 'num_leaves': 2644, 'colsample_bytree': 0.668767043284092, 'min_child_samples': 48, 'reg_alpha': 4, 'reg_lambda': 307}. Best is trial 31 with value: 0.27498958832466447.\n",
      "[I 2020-10-16 16:16:44,346] Trial 42 finished with value: 0.27982644298837606 and parameters: {'max_depth': 4, 'learning_rate': 0.17481727874578168, 'num_leaves': 3281, 'colsample_bytree': 0.5017664268468559, 'min_child_samples': 52, 'reg_alpha': 157, 'reg_lambda': 252}. Best is trial 31 with value: 0.27498958832466447.\n",
      "[I 2020-10-16 16:16:47,289] Trial 43 finished with value: 0.28197714099505833 and parameters: {'max_depth': 7, 'learning_rate': 0.30081112053011133, 'num_leaves': 3586, 'colsample_bytree': 0.5670894421037395, 'min_child_samples': 70, 'reg_alpha': 72, 'reg_lambda': 193}. Best is trial 31 with value: 0.27498958832466447.\n",
      "[I 2020-10-16 16:17:03,483] Trial 44 finished with value: 0.2795088936967263 and parameters: {'max_depth': 23, 'learning_rate': 0.10119001891163137, 'num_leaves': 3967, 'colsample_bytree': 0.7352300625291183, 'min_child_samples': 92, 'reg_alpha': 5, 'reg_lambda': 420}. Best is trial 31 with value: 0.27498958832466447.\n",
      "[I 2020-10-16 16:17:04,777] Trial 45 finished with value: 0.29100753461787293 and parameters: {'max_depth': 3, 'learning_rate': 0.150851493630236, 'num_leaves': 2316, 'colsample_bytree': 0.7630138090562927, 'min_child_samples': 76, 'reg_alpha': 237, 'reg_lambda': 339}. Best is trial 31 with value: 0.27498958832466447.\n",
      "[I 2020-10-16 16:17:10,595] Trial 46 finished with value: 0.2876666891624812 and parameters: {'max_depth': 9, 'learning_rate': 0.25320629312847875, 'num_leaves': 4337, 'colsample_bytree': 0.5284533003325655, 'min_child_samples': 43, 'reg_alpha': 290, 'reg_lambda': 147}. Best is trial 31 with value: 0.27498958832466447.\n",
      "[I 2020-10-16 16:17:18,605] Trial 47 finished with value: 0.2840518227415787 and parameters: {'max_depth': 12, 'learning_rate': 0.21537404198117455, 'num_leaves': 2750, 'colsample_bytree': 0.6842641474236502, 'min_child_samples': 60, 'reg_alpha': 188, 'reg_lambda': 69}. Best is trial 31 with value: 0.27498958832466447.\n",
      "[I 2020-10-16 16:17:20,684] Trial 48 finished with value: 0.275793807310469 and parameters: {'max_depth': 5, 'learning_rate': 0.1015366556052333, 'num_leaves': 3183, 'colsample_bytree': 0.6070485142000428, 'min_child_samples': 31, 'reg_alpha': 238, 'reg_lambda': 500}. Best is trial 31 with value: 0.27498958832466447.\n",
      "[I 2020-10-16 16:17:23,684] Trial 49 finished with value: 0.28474682943318014 and parameters: {'max_depth': 8, 'learning_rate': 0.10425421955947672, 'num_leaves': 3026, 'colsample_bytree': 0.22578509231709146, 'min_child_samples': 187, 'reg_alpha': 106, 'reg_lambda': 486}. Best is trial 31 with value: 0.27498958832466447.\n"
     ]
    },
    {
     "name": "stdout",
     "output_type": "stream",
     "text": [
      "Optimized LightGBM RLMSE 0.37872990112480437\n"
     ]
    }
   ],
   "source": [
    "import optuna\n",
    "from optuna.samplers import TPESampler\n",
    "\n",
    "def create_model(trial):\n",
    "    max_depth = trial.suggest_int(\"max_depth\", 2, 30)\n",
    "    learning_rate = trial.suggest_uniform('learning_rate', 0.1, 1)\n",
    "    num_leaves = trial.suggest_int(\"num_leaves\", 2, 5000)\n",
    "    colsample_bytree = trial.suggest_uniform('colsample_bytree', 0.1, 0.9),\n",
    "    min_child_samples = trial.suggest_int('min_child_samples', 3, 200)\n",
    "    reg_alpha = trial.suggest_int(\"reg_alpha\", 1, 1000)\n",
    "    reg_lambda = trial.suggest_int(\"reg_lambda\", 1, 1000)\n",
    "    model = LGBMRegressor(\n",
    "        learning_rate=learning_rate,\n",
    "        max_depth=max_depth,\n",
    "        num_leaves=num_leaves,\n",
    "        colsample_bytree = colsample_bytree,\n",
    "        min_child_samples=min_child_samples,\n",
    "        random_state=1999,\n",
    "        n_jobs = -1,\n",
    "        n_estimators = 1500\n",
    "    )\n",
    "    return model\n",
    "\n",
    "sampler = TPESampler(seed=0)\n",
    "def objective(trial):\n",
    "    model = create_model(trial)\n",
    "    model.fit(X_trn, y_trn)\n",
    "    preds = model.predict(X_val)\n",
    "    score = np.sqrt(mean_squared_error(y_val,preds))\n",
    "    return score\n",
    "\n",
    "study = optuna.create_study(direction=\"minimize\", sampler=sampler)\n",
    "study.optimize(objective, n_trials=50)\n",
    "\n",
    "lgb_params = study.best_params\n",
    "lgb_params['random_state'] = 1999\n",
    "lgb = LGBMRegressor(**lgb_params)\n",
    "lgb.fit(X_trn, y_trn)\n",
    "preds = lgb.predict(X_val)\n",
    "print('Optimized LightGBM RLMSE', np.sqrt(mean_squared_error(y_val, preds)))"
   ]
  },
  {
   "cell_type": "code",
   "execution_count": 399,
   "metadata": {},
   "outputs": [
    {
     "name": "stdout",
     "output_type": "stream",
     "text": [
      "mean_squared_log_error is : 0.37872990112480437\n"
     ]
    }
   ],
   "source": [
    "\n",
    "#lgb = LGBMRegressor(random_state=1999,learning_rate=0.09, colsample_bytree=0.9, num_leaves=180, max_depth=30, \n",
    "#                    min_child_samples=3, reg_alpha=0.5)\n",
    "\n",
    "lgb.fit(X_trn, y_trn)\n",
    "\n",
    "preds = lgb.predict(X_val)\n",
    "preds = np.abs(preds)\n",
    "\n",
    "error = np.sqrt(mean_squared_error(y_val, preds))\n",
    "\n",
    "print(f'mean_squared_log_error is : {error}')"
   ]
  },
  {
   "cell_type": "code",
   "execution_count": 400,
   "metadata": {},
   "outputs": [
    {
     "name": "stdout",
     "output_type": "stream",
     "text": [
      "mean_squared_log_error is : 0.27747071855979877\n"
     ]
    }
   ],
   "source": [
    "\n",
    "lgb = LGBMRegressor(random_state=1999,learning_rate=0.09, colsample_bytree=0.9, num_leaves=180, max_depth=30, \n",
    "                    min_child_samples=3, reg_alpha=0.5)\n",
    "\n",
    "lgb.fit(X_trn, y_trn)\n",
    "\n",
    "preds = lgb.predict(X_val)\n",
    "preds = np.abs(preds)\n",
    "\n",
    "error = np.sqrt(mean_squared_error(y_val, preds))\n",
    "\n",
    "print(f'mean_squared_log_error is : {error}')"
   ]
  },
  {
   "cell_type": "markdown",
   "metadata": {},
   "source": [
    "### 3. XGB"
   ]
  },
  {
   "cell_type": "code",
   "execution_count": 401,
   "metadata": {},
   "outputs": [
    {
     "name": "stderr",
     "output_type": "stream",
     "text": [
      "[I 2020-10-16 16:17:25,913] A new study created in memory with name: no-name-50f62c9e-34ab-4817-818b-7731b6080ef8\n",
      "[I 2020-10-16 16:17:33,204] Trial 0 finished with value: 0.33100932488429874 and parameters: {'max_depth': 14, 'n_estimators': 959, 'learning_rate': 0.7436704297351775, 'colsample_bytree': 0.5822107008573151, 'reg_alpha': 4, 'reg_lambda': 8}. Best is trial 0 with value: 0.33100932488429874.\n",
      "[I 2020-10-16 16:17:45,470] Trial 1 finished with value: 0.2986666401863318 and parameters: {'max_depth': 11, 'n_estimators': 677, 'learning_rate': 0.4459435365634299, 'colsample_bytree': 0.3380276852355778, 'reg_alpha': 9, 'reg_lambda': 9}. Best is trial 1 with value: 0.2986666401863318.\n",
      "[I 2020-10-16 16:17:53,409] Trial 2 finished with value: 0.31551293148374154 and parameters: {'max_depth': 14, 'n_estimators': 714, 'learning_rate': 0.5298986055892149, 'colsample_bytree': 0.7497349830203945, 'reg_alpha': 9, 'reg_lambda': 2}. Best is trial 1 with value: 0.2986666401863318.\n",
      "[I 2020-10-16 16:18:02,829] Trial 3 finished with value: 0.27274244257836683 and parameters: {'max_depth': 7, 'n_estimators': 937, 'learning_rate': 0.16393245237809825, 'colsample_bytree': 0.1697034397612326, 'reg_alpha': 4, 'reg_lambda': 1}. Best is trial 3 with value: 0.27274244257836683.\n",
      "[I 2020-10-16 16:18:07,365] Trial 4 finished with value: 0.37910993203387394 and parameters: {'max_depth': 21, 'n_estimators': 848, 'learning_rate': 0.9807565080094875, 'colsample_bytree': 0.739326851373379, 'reg_alpha': 4, 'reg_lambda': 4}. Best is trial 3 with value: 0.27274244257836683.\n",
      "[I 2020-10-16 16:18:14,420] Trial 5 finished with value: 0.33916066142454593 and parameters: {'max_depth': 21, 'n_estimators': 1310, 'learning_rate': 0.7485693892533251, 'colsample_bytree': 0.5656158336600857, 'reg_alpha': 10, 'reg_lambda': 1}. Best is trial 3 with value: 0.27274244257836683.\n",
      "[I 2020-10-16 16:18:27,568] Trial 6 finished with value: 0.32358937792765957 and parameters: {'max_depth': 12, 'n_estimators': 644, 'learning_rate': 0.5262403774119917, 'colsample_bytree': 0.24906587466140798, 'reg_alpha': 3, 'reg_lambda': 8}. Best is trial 3 with value: 0.27274244257836683.\n",
      "[I 2020-10-16 16:18:37,339] Trial 7 finished with value: 0.29105668564813003 and parameters: {'max_depth': 30, 'n_estimators': 1202, 'learning_rate': 0.22169635606490684, 'colsample_bytree': 0.3593128062345713, 'reg_alpha': 6, 'reg_lambda': 7}. Best is trial 3 with value: 0.27274244257836683.\n",
      "[I 2020-10-16 16:18:54,461] Trial 8 finished with value: 0.3094897816908424 and parameters: {'max_depth': 10, 'n_estimators': 1156, 'learning_rate': 0.4478400830132757, 'colsample_bytree': 0.8220787804235238, 'reg_alpha': 9, 'reg_lambda': 2}. Best is trial 3 with value: 0.27274244257836683.\n",
      "[I 2020-10-16 16:18:57,637] Trial 9 finished with value: 0.3039450993023695 and parameters: {'max_depth': 3, 'n_estimators': 457, 'learning_rate': 0.7000900439011009, 'colsample_bytree': 0.6365102956945276, 'reg_alpha': 3, 'reg_lambda': 1}. Best is trial 3 with value: 0.27274244257836683.\n",
      "[I 2020-10-16 16:19:02,659] Trial 10 finished with value: 0.3101528690794424 and parameters: {'max_depth': 2, 'n_estimators': 1473, 'learning_rate': 0.11034603712143903, 'colsample_bytree': 0.10891410883626335, 'reg_alpha': 1, 'reg_lambda': 5}. Best is trial 3 with value: 0.27274244257836683.\n",
      "[I 2020-10-16 16:19:15,413] Trial 11 finished with value: 0.28003322997423014 and parameters: {'max_depth': 30, 'n_estimators': 1108, 'learning_rate': 0.13216064234996266, 'colsample_bytree': 0.37868066088129115, 'reg_alpha': 7, 'reg_lambda': 6}. Best is trial 3 with value: 0.27274244257836683.\n",
      "[I 2020-10-16 16:19:26,619] Trial 12 finished with value: 0.3115433224221509 and parameters: {'max_depth': 30, 'n_estimators': 1003, 'learning_rate': 0.25444553001047765, 'colsample_bytree': 0.1329324990244688, 'reg_alpha': 7, 'reg_lambda': 6}. Best is trial 3 with value: 0.27274244257836683.\n",
      "[I 2020-10-16 16:19:38,679] Trial 13 finished with value: 0.27627076167310316 and parameters: {'max_depth': 6, 'n_estimators': 1081, 'learning_rate': 0.10455082448770447, 'colsample_bytree': 0.4296645066672024, 'reg_alpha': 7, 'reg_lambda': 4}. Best is trial 3 with value: 0.27274244257836683.\n",
      "[I 2020-10-16 16:19:51,374] Trial 14 finished with value: 0.28042319762163465 and parameters: {'max_depth': 6, 'n_estimators': 1370, 'learning_rate': 0.30350697469356447, 'colsample_bytree': 0.21163907583076963, 'reg_alpha': 1, 'reg_lambda': 3}. Best is trial 3 with value: 0.27274244257836683.\n",
      "[I 2020-10-16 16:20:02,303] Trial 15 finished with value: 0.27692670578994444 and parameters: {'max_depth': 7, 'n_estimators': 860, 'learning_rate': 0.10792380545506054, 'colsample_bytree': 0.43490150687901447, 'reg_alpha': 5, 'reg_lambda': 3}. Best is trial 3 with value: 0.27274244257836683.\n",
      "[I 2020-10-16 16:20:13,798] Trial 16 finished with value: 0.28412609011713374 and parameters: {'max_depth': 7, 'n_estimators': 1065, 'learning_rate': 0.34962661750788676, 'colsample_bytree': 0.2390352257311671, 'reg_alpha': 7, 'reg_lambda': 4}. Best is trial 3 with value: 0.27274244257836683.\n",
      "[I 2020-10-16 16:20:32,738] Trial 17 finished with value: 0.28566443023292365 and parameters: {'max_depth': 19, 'n_estimators': 881, 'learning_rate': 0.18893209972652986, 'colsample_bytree': 0.5047071196554492, 'reg_alpha': 6, 'reg_lambda': 1}. Best is trial 3 with value: 0.27274244257836683.\n",
      "[I 2020-10-16 16:20:39,672] Trial 18 finished with value: 0.3090569830260703 and parameters: {'max_depth': 3, 'n_estimators': 1259, 'learning_rate': 0.9411821421407793, 'colsample_bytree': 0.1685562740962896, 'reg_alpha': 2, 'reg_lambda': 4}. Best is trial 3 with value: 0.27274244257836683.\n",
      "[I 2020-10-16 16:20:44,505] Trial 19 finished with value: 0.28529418508574966 and parameters: {'max_depth': 6, 'n_estimators': 451, 'learning_rate': 0.38764094200787796, 'colsample_bytree': 0.3005118622683398, 'reg_alpha': 5, 'reg_lambda': 2}. Best is trial 3 with value: 0.27274244257836683.\n",
      "[I 2020-10-16 16:21:05,629] Trial 20 finished with value: 0.28340613186129227 and parameters: {'max_depth': 17, 'n_estimators': 809, 'learning_rate': 0.180163034193633, 'colsample_bytree': 0.4499581249073592, 'reg_alpha': 8, 'reg_lambda': 10}. Best is trial 3 with value: 0.27274244257836683.\n",
      "[I 2020-10-16 16:21:20,462] Trial 21 finished with value: 0.2742737620331022 and parameters: {'max_depth': 8, 'n_estimators': 1007, 'learning_rate': 0.108645980952997, 'colsample_bytree': 0.4424197687065179, 'reg_alpha': 5, 'reg_lambda': 3}. Best is trial 3 with value: 0.27274244257836683.\n",
      "[I 2020-10-16 16:21:37,226] Trial 22 finished with value: 0.2718064399748727 and parameters: {'max_depth': 8, 'n_estimators': 1025, 'learning_rate': 0.11195275320863457, 'colsample_bytree': 0.4952394785029257, 'reg_alpha': 4, 'reg_lambda': 3}. Best is trial 22 with value: 0.2718064399748727.\n",
      "[I 2020-10-16 16:21:56,006] Trial 23 finished with value: 0.2828567658987679 and parameters: {'max_depth': 9, 'n_estimators': 1002, 'learning_rate': 0.2608462845788009, 'colsample_bytree': 0.535707496366559, 'reg_alpha': 4, 'reg_lambda': 3}. Best is trial 22 with value: 0.2718064399748727.\n",
      "[I 2020-10-16 16:22:04,236] Trial 24 finished with value: 0.2877077493627654 and parameters: {'max_depth': 4, 'n_estimators': 937, 'learning_rate': 0.18719482993785438, 'colsample_bytree': 0.6294186072524672, 'reg_alpha': 3, 'reg_lambda': 2}. Best is trial 22 with value: 0.2718064399748727.\n",
      "[I 2020-10-16 16:22:19,899] Trial 25 finished with value: 0.28842436631100066 and parameters: {'max_depth': 13, 'n_estimators': 755, 'learning_rate': 0.32385816574799264, 'colsample_bytree': 0.481426828494576, 'reg_alpha': 5, 'reg_lambda': 5}. Best is trial 22 with value: 0.2718064399748727.\n",
      "[I 2020-10-16 16:22:32,200] Trial 26 finished with value: 0.2788314541359028 and parameters: {'max_depth': 9, 'n_estimators': 609, 'learning_rate': 0.14444339887143653, 'colsample_bytree': 0.6762737535345511, 'reg_alpha': 4, 'reg_lambda': 1}. Best is trial 22 with value: 0.2718064399748727.\n",
      "[I 2020-10-16 16:22:40,625] Trial 27 finished with value: 0.3357035771421393 and parameters: {'max_depth': 16, 'n_estimators': 1046, 'learning_rate': 0.6303902203761986, 'colsample_bytree': 0.39730142337681734, 'reg_alpha': 2, 'reg_lambda': 3}. Best is trial 22 with value: 0.2718064399748727.\n",
      "[I 2020-10-16 16:22:55,856] Trial 28 finished with value: 0.3681470178358404 and parameters: {'max_depth': 9, 'n_estimators': 1164, 'learning_rate': 0.8890382994059132, 'colsample_bytree': 0.31704148971097257, 'reg_alpha': 2, 'reg_lambda': 2}. Best is trial 22 with value: 0.2718064399748727.\n",
      "[I 2020-10-16 16:23:07,327] Trial 29 finished with value: 0.29888870947228413 and parameters: {'max_depth': 25, 'n_estimators': 929, 'learning_rate': 0.2662266704588455, 'colsample_bytree': 0.600624979447233, 'reg_alpha': 4, 'reg_lambda': 3}. Best is trial 22 with value: 0.2718064399748727.\n"
     ]
    },
    {
     "name": "stdout",
     "output_type": "stream",
     "text": [
      "Optimized LightGBM roc_auc_score 0.27888446370153225\n"
     ]
    }
   ],
   "source": [
    "import optuna\n",
    "from optuna.samplers import TPESampler\n",
    "\n",
    "def create_model(trial):\n",
    "    max_depth = trial.suggest_int(\"max_depth\", 2, 30)\n",
    "    n_estimators = trial.suggest_int(\"n_estimators\", 400, 1500)\n",
    "    learning_rate = trial.suggest_uniform('learning_rate', 0.1, 1)\n",
    "    colsample_bytree = trial.suggest_uniform('colsample_bytree', 0.1, 0.9)\n",
    "    #num_leaves = trial.suggest_int(\"num_leaves\", 2, 5000)\n",
    "    #min_child_samples = trial.suggest_int('min_child_samples', 3, 200)\n",
    "    reg_alpha = trial.suggest_int(\"reg_alpha\", 1, 10)\n",
    "    reg_lambda = trial.suggest_int(\"reg_lambda\", 1, 10)\n",
    "    model = XGBRegressor(\n",
    "        learning_rate=learning_rate, \n",
    "        n_estimators=n_estimators, \n",
    "        max_depth=max_depth,\n",
    "        colsample_bytree = colsample_bytree,\n",
    "        #num_leaves=num_leaves, \n",
    "        #min_child_samples=min_child_samples,\n",
    "        random_state=0,\n",
    "        n_jobs = -1\n",
    "    )\n",
    "    return model\n",
    "\n",
    "sampler = TPESampler(seed=0)\n",
    "def objective(trial):\n",
    "    model = create_model(trial)\n",
    "    model.fit(X_trn, y_trn)\n",
    "    preds = model.predict(X_val)\n",
    "    score = np.sqrt(mean_squared_error(y_val,preds))\n",
    "    return score\n",
    "\n",
    "study = optuna.create_study(direction=\"minimize\", sampler=sampler)\n",
    "study.optimize(objective, n_trials=30)\n",
    "\n",
    "xgb_params = study.best_params\n",
    "xgb_params['random_state'] = 0\n",
    "xgb = XGBRegressor(**xgb_params)\n",
    "xgb.fit(X_trn, y_trn)\n",
    "preds = xgb.predict(X_val)\n",
    "print('Optimized LightGBM roc_auc_score', np.sqrt(mean_squared_error(y_val, preds)))"
   ]
  },
  {
   "cell_type": "markdown",
   "metadata": {},
   "source": [
    "### 4. CATBoost"
   ]
  },
  {
   "cell_type": "code",
   "execution_count": 951,
   "metadata": {},
   "outputs": [
    {
     "name": "stderr",
     "output_type": "stream",
     "text": [
      "[I 2020-10-15 21:42:25,993] A new study created in memory with name: no-name-bd28f0b7-6554-4894-a8c9-7e1d76a7df4b\n",
      "[I 2020-10-15 21:45:55,841] Trial 0 finished with value: 0.33849508057876143 and parameters: {'max_depth': 13, 'n_estimators': 1059, 'learning_rate': 0.7436704297351775, 'rsm': 0.636459404703763, 'reg_lambda': 4}. Best is trial 0 with value: 0.33849508057876143.\n",
      "[I 2020-10-15 21:46:02,305] Trial 1 finished with value: 0.2983576927902047 and parameters: {'max_depth': 8, 'n_estimators': 509, 'learning_rate': 0.6612073271073751, 'rsm': 0.44209971949050286, 'reg_lambda': 8}. Best is trial 1 with value: 0.2983576927902047.\n",
      "[I 2020-10-15 21:46:11,856] Trial 2 finished with value: 0.32412434060714446 and parameters: {'max_depth': 7, 'n_estimators': 972, 'learning_rate': 0.9672964844509263, 'rsm': 0.4412629517549421, 'reg_lambda': 7}. Best is trial 1 with value: 0.2983576927902047.\n",
      "[I 2020-10-15 21:46:19,557] Trial 3 finished with value: 0.29763699647308844 and parameters: {'max_depth': 8, 'n_estimators': 587, 'learning_rate': 0.5319794551375516, 'rsm': 0.4495784685297385, 'reg_lambda': 10}. Best is trial 3 with value: 0.29763699647308844.\n",
      "[I 2020-10-15 21:47:26,855] Trial 4 finished with value: 0.28886926754354675 and parameters: {'max_depth': 14, 'n_estimators': 572, 'learning_rate': 0.17841636973138664, 'rsm': 0.1179943737218899, 'reg_lambda': 4}. Best is trial 4 with value: 0.28886926754354675.\n",
      "[I 2020-10-15 21:47:34,115] Trial 5 finished with value: 0.31047216118192084 and parameters: {'max_depth': 6, 'n_estimators': 1347, 'learning_rate': 0.8830109334221372, 'rsm': 0.9709703245871599, 'reg_lambda': 9}. Best is trial 4 with value: 0.28886926754354675.\n",
      "[I 2020-10-15 21:47:38,345] Trial 6 finished with value: 0.3064641199235538 and parameters: {'max_depth': 2, 'n_estimators': 1255, 'learning_rate': 0.5684297315960843, 'rsm': 0.7042027818058747, 'reg_lambda': 8}. Best is trial 4 with value: 0.28886926754354675.\n",
      "[I 2020-10-15 21:47:42,119] Trial 7 finished with value: 0.3795697353261182 and parameters: {'max_depth': 1, 'n_estimators': 1461, 'learning_rate': 0.22901795866814179, 'rsm': 0.9407553361741297, 'reg_lambda': 5}. Best is trial 4 with value: 0.28886926754354675.\n",
      "[I 2020-10-15 21:47:58,994] Trial 8 finished with value: 0.28959942116764675 and parameters: {'max_depth': 8, 'n_estimators': 1175, 'learning_rate': 0.267699108994084, 'rsm': 0.7558571776447727, 'reg_lambda': 3}. Best is trial 4 with value: 0.28886926754354675.\n",
      "[I 2020-10-15 21:48:01,284] Trial 9 finished with value: 0.3847624395236784 and parameters: {'max_depth': 1, 'n_estimators': 628, 'learning_rate': 0.3917269070138927, 'rsm': 0.23321063179347803, 'reg_lambda': 9}. Best is trial 4 with value: 0.28886926754354675.\n",
      "[I 2020-10-15 21:53:07,209] Trial 10 finished with value: 0.2948882238558766 and parameters: {'max_depth': 16, 'n_estimators': 803, 'learning_rate': 0.11039091710048721, 'rsm': 0.10984259818894261, 'reg_lambda': 1}. Best is trial 4 with value: 0.28886926754354675.\n",
      "[I 2020-10-15 21:55:07,315] Trial 11 finished with value: 0.29415891441639697 and parameters: {'max_depth': 12, 'n_estimators': 1122, 'learning_rate': 0.10457282423517669, 'rsm': 0.75932930371978, 'reg_lambda': 2}. Best is trial 4 with value: 0.28886926754354675.\n",
      "[I 2020-10-15 21:55:58,737] Trial 12 finished with value: 0.29896026636535455 and parameters: {'max_depth': 11, 'n_estimators': 850, 'learning_rate': 0.29506949593174875, 'rsm': 0.8462173231820372, 'reg_lambda': 3}. Best is trial 4 with value: 0.28886926754354675.\n",
      "[I 2020-10-15 21:56:04,028] Trial 13 finished with value: 0.294978331297443 and parameters: {'max_depth': 4, 'n_estimators': 1230, 'learning_rate': 0.2435799817424975, 'rsm': 0.2201600568987752, 'reg_lambda': 5}. Best is trial 4 with value: 0.28886926754354675.\n"
     ]
    },
    {
     "ename": "KeyboardInterrupt",
     "evalue": "",
     "output_type": "error",
     "traceback": [
      "\u001b[1;31m---------------------------------------------------------------------------\u001b[0m",
      "\u001b[1;31mKeyboardInterrupt\u001b[0m                         Traceback (most recent call last)",
      "\u001b[1;32m<ipython-input-951-df2d1823fbcb>\u001b[0m in \u001b[0;36m<module>\u001b[1;34m\u001b[0m\n\u001b[0;32m     32\u001b[0m \u001b[1;33m\u001b[0m\u001b[0m\n\u001b[0;32m     33\u001b[0m \u001b[0mstudy\u001b[0m \u001b[1;33m=\u001b[0m \u001b[0moptuna\u001b[0m\u001b[1;33m.\u001b[0m\u001b[0mcreate_study\u001b[0m\u001b[1;33m(\u001b[0m\u001b[0mdirection\u001b[0m\u001b[1;33m=\u001b[0m\u001b[1;34m\"minimize\"\u001b[0m\u001b[1;33m,\u001b[0m \u001b[0msampler\u001b[0m\u001b[1;33m=\u001b[0m\u001b[0msampler\u001b[0m\u001b[1;33m)\u001b[0m\u001b[1;33m\u001b[0m\u001b[1;33m\u001b[0m\u001b[0m\n\u001b[1;32m---> 34\u001b[1;33m \u001b[0mstudy\u001b[0m\u001b[1;33m.\u001b[0m\u001b[0moptimize\u001b[0m\u001b[1;33m(\u001b[0m\u001b[0mobjective\u001b[0m\u001b[1;33m,\u001b[0m \u001b[0mn_trials\u001b[0m\u001b[1;33m=\u001b[0m\u001b[1;36m20\u001b[0m\u001b[1;33m)\u001b[0m\u001b[1;33m\u001b[0m\u001b[1;33m\u001b[0m\u001b[0m\n\u001b[0m\u001b[0;32m     35\u001b[0m \u001b[1;33m\u001b[0m\u001b[0m\n\u001b[0;32m     36\u001b[0m \u001b[0mcat_params\u001b[0m \u001b[1;33m=\u001b[0m \u001b[0mstudy\u001b[0m\u001b[1;33m.\u001b[0m\u001b[0mbest_params\u001b[0m\u001b[1;33m\u001b[0m\u001b[1;33m\u001b[0m\u001b[0m\n",
      "\u001b[1;32m~\\anaconda3\\lib\\site-packages\\optuna\\study.py\u001b[0m in \u001b[0;36moptimize\u001b[1;34m(self, func, n_trials, timeout, n_jobs, catch, callbacks, gc_after_trial, show_progress_bar)\u001b[0m\n\u001b[0;32m    326\u001b[0m             \u001b[1;32mif\u001b[0m \u001b[0mn_jobs\u001b[0m \u001b[1;33m==\u001b[0m \u001b[1;36m1\u001b[0m\u001b[1;33m:\u001b[0m\u001b[1;33m\u001b[0m\u001b[1;33m\u001b[0m\u001b[0m\n\u001b[0;32m    327\u001b[0m                 self._optimize_sequential(\n\u001b[1;32m--> 328\u001b[1;33m                     \u001b[0mfunc\u001b[0m\u001b[1;33m,\u001b[0m \u001b[0mn_trials\u001b[0m\u001b[1;33m,\u001b[0m \u001b[0mtimeout\u001b[0m\u001b[1;33m,\u001b[0m \u001b[0mcatch\u001b[0m\u001b[1;33m,\u001b[0m \u001b[0mcallbacks\u001b[0m\u001b[1;33m,\u001b[0m \u001b[0mgc_after_trial\u001b[0m\u001b[1;33m,\u001b[0m \u001b[1;32mNone\u001b[0m\u001b[1;33m\u001b[0m\u001b[1;33m\u001b[0m\u001b[0m\n\u001b[0m\u001b[0;32m    329\u001b[0m                 )\n\u001b[0;32m    330\u001b[0m             \u001b[1;32melse\u001b[0m\u001b[1;33m:\u001b[0m\u001b[1;33m\u001b[0m\u001b[1;33m\u001b[0m\u001b[0m\n",
      "\u001b[1;32m~\\anaconda3\\lib\\site-packages\\optuna\\study.py\u001b[0m in \u001b[0;36m_optimize_sequential\u001b[1;34m(self, func, n_trials, timeout, catch, callbacks, gc_after_trial, time_start)\u001b[0m\n\u001b[0;32m    724\u001b[0m                     \u001b[1;32mbreak\u001b[0m\u001b[1;33m\u001b[0m\u001b[1;33m\u001b[0m\u001b[0m\n\u001b[0;32m    725\u001b[0m \u001b[1;33m\u001b[0m\u001b[0m\n\u001b[1;32m--> 726\u001b[1;33m             \u001b[0mself\u001b[0m\u001b[1;33m.\u001b[0m\u001b[0m_run_trial_and_callbacks\u001b[0m\u001b[1;33m(\u001b[0m\u001b[0mfunc\u001b[0m\u001b[1;33m,\u001b[0m \u001b[0mcatch\u001b[0m\u001b[1;33m,\u001b[0m \u001b[0mcallbacks\u001b[0m\u001b[1;33m,\u001b[0m \u001b[0mgc_after_trial\u001b[0m\u001b[1;33m)\u001b[0m\u001b[1;33m\u001b[0m\u001b[1;33m\u001b[0m\u001b[0m\n\u001b[0m\u001b[0;32m    727\u001b[0m \u001b[1;33m\u001b[0m\u001b[0m\n\u001b[0;32m    728\u001b[0m             \u001b[0mself\u001b[0m\u001b[1;33m.\u001b[0m\u001b[0m_progress_bar\u001b[0m\u001b[1;33m.\u001b[0m\u001b[0mupdate\u001b[0m\u001b[1;33m(\u001b[0m\u001b[1;33m(\u001b[0m\u001b[0mdatetime\u001b[0m\u001b[1;33m.\u001b[0m\u001b[0mdatetime\u001b[0m\u001b[1;33m.\u001b[0m\u001b[0mnow\u001b[0m\u001b[1;33m(\u001b[0m\u001b[1;33m)\u001b[0m \u001b[1;33m-\u001b[0m \u001b[0mtime_start\u001b[0m\u001b[1;33m)\u001b[0m\u001b[1;33m.\u001b[0m\u001b[0mtotal_seconds\u001b[0m\u001b[1;33m(\u001b[0m\u001b[1;33m)\u001b[0m\u001b[1;33m)\u001b[0m\u001b[1;33m\u001b[0m\u001b[1;33m\u001b[0m\u001b[0m\n",
      "\u001b[1;32m~\\anaconda3\\lib\\site-packages\\optuna\\study.py\u001b[0m in \u001b[0;36m_run_trial_and_callbacks\u001b[1;34m(self, func, catch, callbacks, gc_after_trial)\u001b[0m\n\u001b[0;32m    753\u001b[0m     ) -> None:\n\u001b[0;32m    754\u001b[0m \u001b[1;33m\u001b[0m\u001b[0m\n\u001b[1;32m--> 755\u001b[1;33m         \u001b[0mtrial\u001b[0m \u001b[1;33m=\u001b[0m \u001b[0mself\u001b[0m\u001b[1;33m.\u001b[0m\u001b[0m_run_trial\u001b[0m\u001b[1;33m(\u001b[0m\u001b[0mfunc\u001b[0m\u001b[1;33m,\u001b[0m \u001b[0mcatch\u001b[0m\u001b[1;33m,\u001b[0m \u001b[0mgc_after_trial\u001b[0m\u001b[1;33m)\u001b[0m\u001b[1;33m\u001b[0m\u001b[1;33m\u001b[0m\u001b[0m\n\u001b[0m\u001b[0;32m    756\u001b[0m         \u001b[1;32mif\u001b[0m \u001b[0mcallbacks\u001b[0m \u001b[1;32mis\u001b[0m \u001b[1;32mnot\u001b[0m \u001b[1;32mNone\u001b[0m\u001b[1;33m:\u001b[0m\u001b[1;33m\u001b[0m\u001b[1;33m\u001b[0m\u001b[0m\n\u001b[0;32m    757\u001b[0m             \u001b[0mfrozen_trial\u001b[0m \u001b[1;33m=\u001b[0m \u001b[0mcopy\u001b[0m\u001b[1;33m.\u001b[0m\u001b[0mdeepcopy\u001b[0m\u001b[1;33m(\u001b[0m\u001b[0mself\u001b[0m\u001b[1;33m.\u001b[0m\u001b[0m_storage\u001b[0m\u001b[1;33m.\u001b[0m\u001b[0mget_trial\u001b[0m\u001b[1;33m(\u001b[0m\u001b[0mtrial\u001b[0m\u001b[1;33m.\u001b[0m\u001b[0m_trial_id\u001b[0m\u001b[1;33m)\u001b[0m\u001b[1;33m)\u001b[0m\u001b[1;33m\u001b[0m\u001b[1;33m\u001b[0m\u001b[0m\n",
      "\u001b[1;32m~\\anaconda3\\lib\\site-packages\\optuna\\study.py\u001b[0m in \u001b[0;36m_run_trial\u001b[1;34m(self, func, catch, gc_after_trial)\u001b[0m\n\u001b[0;32m    776\u001b[0m \u001b[1;33m\u001b[0m\u001b[0m\n\u001b[0;32m    777\u001b[0m         \u001b[1;32mtry\u001b[0m\u001b[1;33m:\u001b[0m\u001b[1;33m\u001b[0m\u001b[1;33m\u001b[0m\u001b[0m\n\u001b[1;32m--> 778\u001b[1;33m             \u001b[0mresult\u001b[0m \u001b[1;33m=\u001b[0m \u001b[0mfunc\u001b[0m\u001b[1;33m(\u001b[0m\u001b[0mtrial\u001b[0m\u001b[1;33m)\u001b[0m\u001b[1;33m\u001b[0m\u001b[1;33m\u001b[0m\u001b[0m\n\u001b[0m\u001b[0;32m    779\u001b[0m         \u001b[1;32mexcept\u001b[0m \u001b[0mexceptions\u001b[0m\u001b[1;33m.\u001b[0m\u001b[0mTrialPruned\u001b[0m \u001b[1;32mas\u001b[0m \u001b[0me\u001b[0m\u001b[1;33m:\u001b[0m\u001b[1;33m\u001b[0m\u001b[1;33m\u001b[0m\u001b[0m\n\u001b[0;32m    780\u001b[0m             \u001b[0mmessage\u001b[0m \u001b[1;33m=\u001b[0m \u001b[1;34m\"Trial {} pruned. {}\"\u001b[0m\u001b[1;33m.\u001b[0m\u001b[0mformat\u001b[0m\u001b[1;33m(\u001b[0m\u001b[0mtrial_number\u001b[0m\u001b[1;33m,\u001b[0m \u001b[0mstr\u001b[0m\u001b[1;33m(\u001b[0m\u001b[0me\u001b[0m\u001b[1;33m)\u001b[0m\u001b[1;33m)\u001b[0m\u001b[1;33m\u001b[0m\u001b[1;33m\u001b[0m\u001b[0m\n",
      "\u001b[1;32m<ipython-input-951-df2d1823fbcb>\u001b[0m in \u001b[0;36mobjective\u001b[1;34m(trial)\u001b[0m\n\u001b[0;32m     26\u001b[0m \u001b[1;32mdef\u001b[0m \u001b[0mobjective\u001b[0m\u001b[1;33m(\u001b[0m\u001b[0mtrial\u001b[0m\u001b[1;33m)\u001b[0m\u001b[1;33m:\u001b[0m\u001b[1;33m\u001b[0m\u001b[1;33m\u001b[0m\u001b[0m\n\u001b[0;32m     27\u001b[0m     \u001b[0mmodel\u001b[0m \u001b[1;33m=\u001b[0m \u001b[0mcreate_model\u001b[0m\u001b[1;33m(\u001b[0m\u001b[0mtrial\u001b[0m\u001b[1;33m)\u001b[0m\u001b[1;33m\u001b[0m\u001b[1;33m\u001b[0m\u001b[0m\n\u001b[1;32m---> 28\u001b[1;33m     \u001b[0mmodel\u001b[0m\u001b[1;33m.\u001b[0m\u001b[0mfit\u001b[0m\u001b[1;33m(\u001b[0m\u001b[0mX_trn\u001b[0m\u001b[1;33m,\u001b[0m \u001b[0my_trn\u001b[0m\u001b[1;33m)\u001b[0m\u001b[1;33m\u001b[0m\u001b[1;33m\u001b[0m\u001b[0m\n\u001b[0m\u001b[0;32m     29\u001b[0m     \u001b[0mpreds\u001b[0m \u001b[1;33m=\u001b[0m \u001b[0mmodel\u001b[0m\u001b[1;33m.\u001b[0m\u001b[0mpredict\u001b[0m\u001b[1;33m(\u001b[0m\u001b[0mX_val\u001b[0m\u001b[1;33m)\u001b[0m\u001b[1;33m\u001b[0m\u001b[1;33m\u001b[0m\u001b[0m\n\u001b[0;32m     30\u001b[0m     \u001b[0mscore\u001b[0m \u001b[1;33m=\u001b[0m \u001b[0mnp\u001b[0m\u001b[1;33m.\u001b[0m\u001b[0msqrt\u001b[0m\u001b[1;33m(\u001b[0m\u001b[0mmean_squared_error\u001b[0m\u001b[1;33m(\u001b[0m\u001b[0my_val\u001b[0m\u001b[1;33m,\u001b[0m\u001b[0mpreds\u001b[0m\u001b[1;33m)\u001b[0m\u001b[1;33m)\u001b[0m\u001b[1;33m\u001b[0m\u001b[1;33m\u001b[0m\u001b[0m\n",
      "\u001b[1;32m~\\anaconda3\\lib\\site-packages\\catboost\\core.py\u001b[0m in \u001b[0;36mfit\u001b[1;34m(self, X, y, cat_features, sample_weight, baseline, use_best_model, eval_set, verbose, logging_level, plot, column_description, verbose_eval, metric_period, silent, early_stopping_rounds, save_snapshot, snapshot_file, snapshot_interval, init_model)\u001b[0m\n\u001b[0;32m   4838\u001b[0m                          \u001b[0muse_best_model\u001b[0m\u001b[1;33m,\u001b[0m \u001b[0meval_set\u001b[0m\u001b[1;33m,\u001b[0m \u001b[0mverbose\u001b[0m\u001b[1;33m,\u001b[0m \u001b[0mlogging_level\u001b[0m\u001b[1;33m,\u001b[0m \u001b[0mplot\u001b[0m\u001b[1;33m,\u001b[0m \u001b[0mcolumn_description\u001b[0m\u001b[1;33m,\u001b[0m\u001b[1;33m\u001b[0m\u001b[1;33m\u001b[0m\u001b[0m\n\u001b[0;32m   4839\u001b[0m                          \u001b[0mverbose_eval\u001b[0m\u001b[1;33m,\u001b[0m \u001b[0mmetric_period\u001b[0m\u001b[1;33m,\u001b[0m \u001b[0msilent\u001b[0m\u001b[1;33m,\u001b[0m \u001b[0mearly_stopping_rounds\u001b[0m\u001b[1;33m,\u001b[0m\u001b[1;33m\u001b[0m\u001b[1;33m\u001b[0m\u001b[0m\n\u001b[1;32m-> 4840\u001b[1;33m                          save_snapshot, snapshot_file, snapshot_interval, init_model)\n\u001b[0m\u001b[0;32m   4841\u001b[0m \u001b[1;33m\u001b[0m\u001b[0m\n\u001b[0;32m   4842\u001b[0m     \u001b[1;32mdef\u001b[0m \u001b[0mpredict\u001b[0m\u001b[1;33m(\u001b[0m\u001b[0mself\u001b[0m\u001b[1;33m,\u001b[0m \u001b[0mdata\u001b[0m\u001b[1;33m,\u001b[0m \u001b[0mprediction_type\u001b[0m\u001b[1;33m=\u001b[0m\u001b[1;32mNone\u001b[0m\u001b[1;33m,\u001b[0m \u001b[0mntree_start\u001b[0m\u001b[1;33m=\u001b[0m\u001b[1;36m0\u001b[0m\u001b[1;33m,\u001b[0m \u001b[0mntree_end\u001b[0m\u001b[1;33m=\u001b[0m\u001b[1;36m0\u001b[0m\u001b[1;33m,\u001b[0m \u001b[0mthread_count\u001b[0m\u001b[1;33m=\u001b[0m\u001b[1;33m-\u001b[0m\u001b[1;36m1\u001b[0m\u001b[1;33m,\u001b[0m \u001b[0mverbose\u001b[0m\u001b[1;33m=\u001b[0m\u001b[1;32mNone\u001b[0m\u001b[1;33m)\u001b[0m\u001b[1;33m:\u001b[0m\u001b[1;33m\u001b[0m\u001b[1;33m\u001b[0m\u001b[0m\n",
      "\u001b[1;32m~\\anaconda3\\lib\\site-packages\\catboost\\core.py\u001b[0m in \u001b[0;36m_fit\u001b[1;34m(self, X, y, cat_features, text_features, embedding_features, pairs, sample_weight, group_id, group_weight, subgroup_id, pairs_weight, baseline, use_best_model, eval_set, verbose, logging_level, plot, column_description, verbose_eval, metric_period, silent, early_stopping_rounds, save_snapshot, snapshot_file, snapshot_interval, init_model)\u001b[0m\n\u001b[0;32m   1803\u001b[0m                 \u001b[0mparams\u001b[0m\u001b[1;33m,\u001b[0m\u001b[1;33m\u001b[0m\u001b[1;33m\u001b[0m\u001b[0m\n\u001b[0;32m   1804\u001b[0m                 \u001b[0mallow_clear_pool\u001b[0m\u001b[1;33m,\u001b[0m\u001b[1;33m\u001b[0m\u001b[1;33m\u001b[0m\u001b[0m\n\u001b[1;32m-> 1805\u001b[1;33m                 \u001b[0mtrain_params\u001b[0m\u001b[1;33m[\u001b[0m\u001b[1;34m\"init_model\"\u001b[0m\u001b[1;33m]\u001b[0m\u001b[1;33m\u001b[0m\u001b[1;33m\u001b[0m\u001b[0m\n\u001b[0m\u001b[0;32m   1806\u001b[0m             )\n\u001b[0;32m   1807\u001b[0m \u001b[1;33m\u001b[0m\u001b[0m\n",
      "\u001b[1;32m~\\anaconda3\\lib\\site-packages\\catboost\\core.py\u001b[0m in \u001b[0;36m_train\u001b[1;34m(self, train_pool, test_pool, params, allow_clear_pool, init_model)\u001b[0m\n\u001b[0;32m   1256\u001b[0m \u001b[1;33m\u001b[0m\u001b[0m\n\u001b[0;32m   1257\u001b[0m     \u001b[1;32mdef\u001b[0m \u001b[0m_train\u001b[0m\u001b[1;33m(\u001b[0m\u001b[0mself\u001b[0m\u001b[1;33m,\u001b[0m \u001b[0mtrain_pool\u001b[0m\u001b[1;33m,\u001b[0m \u001b[0mtest_pool\u001b[0m\u001b[1;33m,\u001b[0m \u001b[0mparams\u001b[0m\u001b[1;33m,\u001b[0m \u001b[0mallow_clear_pool\u001b[0m\u001b[1;33m,\u001b[0m \u001b[0minit_model\u001b[0m\u001b[1;33m)\u001b[0m\u001b[1;33m:\u001b[0m\u001b[1;33m\u001b[0m\u001b[1;33m\u001b[0m\u001b[0m\n\u001b[1;32m-> 1258\u001b[1;33m         \u001b[0mself\u001b[0m\u001b[1;33m.\u001b[0m\u001b[0m_object\u001b[0m\u001b[1;33m.\u001b[0m\u001b[0m_train\u001b[0m\u001b[1;33m(\u001b[0m\u001b[0mtrain_pool\u001b[0m\u001b[1;33m,\u001b[0m \u001b[0mtest_pool\u001b[0m\u001b[1;33m,\u001b[0m \u001b[0mparams\u001b[0m\u001b[1;33m,\u001b[0m \u001b[0mallow_clear_pool\u001b[0m\u001b[1;33m,\u001b[0m \u001b[0minit_model\u001b[0m\u001b[1;33m.\u001b[0m\u001b[0m_object\u001b[0m \u001b[1;32mif\u001b[0m \u001b[0minit_model\u001b[0m \u001b[1;32melse\u001b[0m \u001b[1;32mNone\u001b[0m\u001b[1;33m)\u001b[0m\u001b[1;33m\u001b[0m\u001b[1;33m\u001b[0m\u001b[0m\n\u001b[0m\u001b[0;32m   1259\u001b[0m         \u001b[0mself\u001b[0m\u001b[1;33m.\u001b[0m\u001b[0m_set_trained_model_attributes\u001b[0m\u001b[1;33m(\u001b[0m\u001b[1;33m)\u001b[0m\u001b[1;33m\u001b[0m\u001b[1;33m\u001b[0m\u001b[0m\n\u001b[0;32m   1260\u001b[0m \u001b[1;33m\u001b[0m\u001b[0m\n",
      "\u001b[1;32m_catboost.pyx\u001b[0m in \u001b[0;36m_catboost._CatBoost._train\u001b[1;34m()\u001b[0m\n",
      "\u001b[1;32m_catboost.pyx\u001b[0m in \u001b[0;36m_catboost._CatBoost._train\u001b[1;34m()\u001b[0m\n",
      "\u001b[1;31mKeyboardInterrupt\u001b[0m: "
     ]
    }
   ],
   "source": [
    "import optuna\n",
    "from optuna.samplers import TPESampler\n",
    "\n",
    "def create_model(trial):\n",
    "    max_depth = trial.suggest_int(\"max_depth\", 1, 16)\n",
    "    n_estimators = trial.suggest_int(\"n_estimators\", 500, 1500)\n",
    "    learning_rate = trial.suggest_uniform('learning_rate', 0.1, 1)\n",
    "    rsm = trial.suggest_uniform('rsm', 0.1, 0.99)\n",
    "    #num_leaves = trial.suggest_int(\"num_leaves\", 2, 5000)\n",
    "    #min_child_samples = trial.suggest_int('min_child_samples', 3, 200)\n",
    "    reg_lambda = trial.suggest_int(\"reg_lambda\", 1, 10)\n",
    "    model = CatBoostRegressor(\n",
    "        learning_rate=learning_rate, \n",
    "        n_estimators=n_estimators, \n",
    "        max_depth=max_depth,\n",
    "        rsm = rsm,\n",
    "        reg_lambda=reg_lambda,\n",
    "        #num_leaves=num_leaves, \n",
    "        #min_child_samples=min_child_samples,\n",
    "        random_state=0,\n",
    "        verbose=False\n",
    "    )\n",
    "    return model\n",
    "\n",
    "sampler = TPESampler(seed=0)\n",
    "def objective(trial):\n",
    "    model = create_model(trial)\n",
    "    model.fit(X_trn, y_trn)\n",
    "    preds = model.predict(X_val)\n",
    "    score = np.sqrt(mean_squared_error(y_val,preds))\n",
    "    return score\n",
    "\n",
    "study = optuna.create_study(direction=\"minimize\", sampler=sampler)\n",
    "study.optimize(objective, n_trials=20)\n",
    "\n",
    "cat_params = study.best_params\n",
    "cat_params['random_state'] = 0\n",
    "cat = CatBoostRegressor(**cat_params)\n",
    "cat.fit(X_trn, y_trn)\n",
    "preds = cat.predict(X_val)\n",
    "print('Optimized LightGBM roc_auc_score',np.sqrt(mean_squared_error(y_val, preds)))"
   ]
  },
  {
   "cell_type": "markdown",
   "metadata": {},
   "source": [
    "---\n",
    "# Models"
   ]
  },
  {
   "cell_type": "code",
   "execution_count": 735,
   "metadata": {},
   "outputs": [],
   "source": [
    "#params = {'max_depth': 22, 'n_estimators': 615, 'min_samples_split': 2}\n",
    "#rf = RandomForestRegressor(**params)"
   ]
  },
  {
   "cell_type": "code",
   "execution_count": 736,
   "metadata": {},
   "outputs": [],
   "source": [
    "#lgb = LGBMRegressor(colsample_bytree=0.39051197438089075,\n",
    "#              learning_rate=0.12999284224611848, max_depth=19,\n",
    "#              min_child_samples=61, n_estimators=1126, num_leaves=2916,\n",
    "#              random_state=0, reg_alpha=731, reg_lambda=822)"
   ]
  },
  {
   "cell_type": "code",
   "execution_count": 738,
   "metadata": {},
   "outputs": [],
   "source": [
    "#xgb = XGBRegressor(base_score=0.5, booster='gbtree', colsample_bylevel=1,\n",
    "#             colsample_bynode=1, colsample_bytree=0.43490150687901447, gamma=0,\n",
    "#             gpu_id=-1, importance_type='gain', interaction_constraints='',\n",
    "#             learning_rate=0.10792380545506054, max_delta_step=0, max_depth=7,\n",
    "#             min_child_weight=1, monotone_constraints='()',\n",
    "#             n_estimators=860, n_jobs=0, num_parallel_tree=1, random_state=0,\n",
    "#             reg_alpha=5, reg_lambda=3, scale_pos_weight=1, subsample=1,\n",
    "#             tree_method='exact', validate_parameters=1, verbosity=None)"
   ]
  },
  {
   "cell_type": "code",
   "execution_count": 402,
   "metadata": {},
   "outputs": [],
   "source": [
    "params = {'learning_rate': 0.1837890419227305,\n",
    " 'rsm': 0.8684840841795957,\n",
    " 'loss_function': 'RMSE',\n",
    " 'max_depth': 10,\n",
    " 'n_estimators': 697,\n",
    " 'random_state': 0,\n",
    " 'reg_lambda': 6}\n",
    "\n",
    "cat = CatBoostRegressor(**params, verbose = False)"
   ]
  },
  {
   "cell_type": "markdown",
   "metadata": {},
   "source": [
    "---\n",
    "# Final Predictions"
   ]
  },
  {
   "cell_type": "code",
   "execution_count": 403,
   "metadata": {
    "collapsed": true
   },
   "outputs": [
    {
     "name": "stdout",
     "output_type": "stream",
     "text": [
      "\n",
      "================================Fold1===================================\n",
      "\n",
      " Root Log Mean Squared Error for Validation set is : 0.27739849896447344\n",
      "\n",
      "================================Fold2===================================\n",
      "\n",
      " Root Log Mean Squared Error for Validation set is : 0.28052626489094407\n",
      "\n",
      "================================Fold3===================================\n",
      "\n",
      " Root Log Mean Squared Error for Validation set is : 0.29191056509650576\n",
      "\n",
      "================================Fold4===================================\n",
      "\n",
      " Root Log Mean Squared Error for Validation set is : 0.28693269703376184\n",
      "\n",
      "================================Fold5===================================\n",
      "\n",
      " Root Log Mean Squared Error for Validation set is : 0.29693193604286633\n",
      "\n",
      "\\Root Log Mean Squared Error for oofs is 0.2868291248833282\n",
      "Wall time: 9min 27s\n"
     ]
    }
   ],
   "source": [
    "%%time\n",
    "rf_oofs, rf_preds = cross_val(rf, train_proc, test_proc, features)"
   ]
  },
  {
   "cell_type": "code",
   "execution_count": 439,
   "metadata": {},
   "outputs": [
    {
     "name": "stdout",
     "output_type": "stream",
     "text": [
      "\n",
      "================================Fold1===================================\n",
      "\n",
      " Root Log Mean Squared Error for Validation set is : 0.26837162674198045\n",
      "\n",
      "================================Fold2===================================\n",
      "\n",
      " Root Log Mean Squared Error for Validation set is : 0.27206808745422234\n",
      "\n",
      "================================Fold3===================================\n",
      "\n",
      " Root Log Mean Squared Error for Validation set is : 0.28608102831096577\n",
      "\n",
      "================================Fold4===================================\n",
      "\n",
      " Root Log Mean Squared Error for Validation set is : 0.27591642503022734\n",
      "\n",
      "================================Fold5===================================\n",
      "\n",
      " Root Log Mean Squared Error for Validation set is : 0.28353553125801134\n",
      "\n",
      "\\Root Log Mean Squared Error for oofs is 0.27727537765126503\n",
      "Wall time: 11.9 s\n"
     ]
    }
   ],
   "source": [
    "%%time\n",
    "lgb_oofs, lgb_preds = cross_val(lgb, train_proc, test_proc, features)"
   ]
  },
  {
   "cell_type": "code",
   "execution_count": 405,
   "metadata": {},
   "outputs": [
    {
     "name": "stdout",
     "output_type": "stream",
     "text": [
      "\n",
      "================================Fold1===================================\n",
      "\n",
      " Root Log Mean Squared Error for Validation set is : 0.26262555958805806\n",
      "\n",
      "================================Fold2===================================\n",
      "\n",
      " Root Log Mean Squared Error for Validation set is : 0.26714782867344505\n",
      "\n",
      "================================Fold3===================================\n",
      "\n",
      " Root Log Mean Squared Error for Validation set is : 0.28540265885150495\n",
      "\n",
      "================================Fold4===================================\n",
      "\n",
      " Root Log Mean Squared Error for Validation set is : 0.26887536577949295\n",
      "\n",
      "================================Fold5===================================\n",
      "\n",
      " Root Log Mean Squared Error for Validation set is : 0.2787607601767787\n",
      "\n",
      "\\Root Log Mean Squared Error for oofs is 0.2726886259990918\n",
      "Wall time: 51.4 s\n"
     ]
    }
   ],
   "source": [
    "%%time\n",
    "xgb_oofs, xgb_preds = cross_val(xgb, train_proc, test_proc, features)"
   ]
  },
  {
   "cell_type": "code",
   "execution_count": 406,
   "metadata": {},
   "outputs": [
    {
     "name": "stdout",
     "output_type": "stream",
     "text": [
      "\n",
      "================================Fold1===================================\n",
      "\n",
      " Root Log Mean Squared Error for Validation set is : 0.2667283862060725\n",
      "\n",
      "================================Fold2===================================\n",
      "\n",
      " Root Log Mean Squared Error for Validation set is : 0.2728797905968799\n",
      "\n",
      "================================Fold3===================================\n",
      "\n",
      " Root Log Mean Squared Error for Validation set is : 0.2880058529044395\n",
      "\n",
      "================================Fold4===================================\n",
      "\n",
      " Root Log Mean Squared Error for Validation set is : 0.2784725201878774\n",
      "\n",
      "================================Fold5===================================\n",
      "\n",
      " Root Log Mean Squared Error for Validation set is : 0.28284110658757794\n",
      "\n",
      "\\Root Log Mean Squared Error for oofs is 0.2778847919338759\n",
      "Wall time: 2min 43s\n"
     ]
    }
   ],
   "source": [
    "%%time\n",
    "cat_oofs, cat_preds = cross_val(cat, train_proc, test_proc, features)"
   ]
  },
  {
   "cell_type": "code",
   "execution_count": 462,
   "metadata": {},
   "outputs": [
    {
     "data": {
      "text/plain": [
       "<matplotlib.axes._subplots.AxesSubplot at 0x22bed369888>"
      ]
     },
     "execution_count": 462,
     "metadata": {},
     "output_type": "execute_result"
    },
    {
     "data": {
      "image/png": "[encoded data removed]",
      "text/plain": [
       "<Figure size 864x432 with 1 Axes>"
      ]
     },
     "metadata": {},
     "output_type": "display_data"
    }
   ],
   "source": [
    "feature_importances = pd.DataFrame()\n",
    "fold_importance = pd.DataFrame({'feature': features, 'importance': cat.feature_importances_})\n",
    "feature_importances = pd.concat([feature_importances, fold_importance], axis=0)\n",
    "\n",
    "feature_importances = feature_importances.reset_index(drop = True)\n",
    "fi = feature_importances.groupby('feature')['importance'].mean().sort_values(ascending = False)[:20][::-1]\n",
    "fi.plot(kind = 'barh', figsize=(12, 6))"
   ]
  },
  {
   "cell_type": "markdown",
   "metadata": {},
   "source": [
    "---\n",
    "# Ensembling"
   ]
  },
  {
   "cell_type": "code",
   "execution_count": 424,
   "metadata": {},
   "outputs": [],
   "source": [
    "train_new = train_proc[[target, 'RERA']].copy()\n",
    "test_new = test_proc[[target, 'RERA']].copy()\n",
    "\n",
    "train_new['lgb'] = lgb_oofs\n",
    "test_new['lgb'] = lgb_preds\n",
    "\n",
    "train_new['cb'] = cat_oofs\n",
    "test_new['cb'] = cat_preds\n",
    "\n",
    "train_new['xgb'] = xgb_oofs\n",
    "test_new['xgb'] = xgb_preds\n",
    "\n",
    "train_new['rf'] = rf_oofs\n",
    "test_new['rf'] = rf_preds\n",
    "\n",
    "ens_features = [c for c in train_new.columns if c not in [target, 'RERA']]"
   ]
  },
  {
   "cell_type": "code",
   "execution_count": 425,
   "metadata": {},
   "outputs": [],
   "source": [
    "from sklearn.linear_model import Ridge"
   ]
  },
  {
   "cell_type": "code",
   "execution_count": 426,
   "metadata": {
    "collapsed": true
   },
   "outputs": [
    {
     "name": "stdout",
     "output_type": "stream",
     "text": [
      "\n",
      "================================Fold1===================================\n",
      "\n",
      " Root Log Mean Squared Error for Validation set is : 0.25862980768505894\n",
      "\n",
      "================================Fold2===================================\n",
      "\n",
      " Root Log Mean Squared Error for Validation set is : 0.2623160854737572\n",
      "\n",
      "================================Fold3===================================\n",
      "\n",
      " Root Log Mean Squared Error for Validation set is : 0.27919487139993765\n",
      "\n",
      "================================Fold4===================================\n",
      "\n",
      " Root Log Mean Squared Error for Validation set is : 0.2660264646672368\n",
      "\n",
      "================================Fold5===================================\n",
      "\n",
      " Root Log Mean Squared Error for Validation set is : 0.2739672684084226\n",
      "\n",
      "\\Root Log Mean Squared Error for oofs is 0.2681328687457224\n"
     ]
    }
   ],
   "source": [
    "from sklearn.linear_model import LinearRegression\n",
    "clf = LinearRegression()\n",
    "\n",
    "ens_linear_oofs, ens_linear_preds = cross_val(clf, train_new, test_new, ens_features)"
   ]
  },
  {
   "cell_type": "code",
   "execution_count": 427,
   "metadata": {},
   "outputs": [],
   "source": [
    "sample_sub['TARGET(PRICE_IN_LACS)']=np.abs((np.exp(ens_linear_preds)-1))\n",
    "sample_sub.to_csv(path + '\\\\Ensemble.csv', index = False)"
   ]
  },
  {
   "cell_type": "code",
   "execution_count": 428,
   "metadata": {},
   "outputs": [
    {
     "name": "stdout",
     "output_type": "stream",
     "text": [
      "\n",
      "================================Fold1===================================\n",
      "\n",
      " Root Log Mean Squared Error for Validation set is : 0.2586297253819578\n",
      "\n",
      "================================Fold2===================================\n",
      "\n",
      " Root Log Mean Squared Error for Validation set is : 0.26231590277962424\n",
      "\n",
      "================================Fold3===================================\n",
      "\n",
      " Root Log Mean Squared Error for Validation set is : 0.2791890245691495\n",
      "\n",
      "================================Fold4===================================\n",
      "\n",
      " Root Log Mean Squared Error for Validation set is : 0.2660299300089645\n",
      "\n",
      "================================Fold5===================================\n",
      "\n",
      " Root Log Mean Squared Error for Validation set is : 0.2739662025192611\n",
      "\n",
      "\\Root Log Mean Squared Error for oofs is 0.26813206936138057\n"
     ]
    }
   ],
   "source": [
    "from sklearn.linear_model import LinearRegression\n",
    "clf = Ridge()\n",
    "\n",
    "ens_ridge_oofs, ens_ridge_preds = cross_val(clf, train_new, test_new, ens_features)"
   ]
  },
  {
   "cell_type": "code",
   "execution_count": 429,
   "metadata": {},
   "outputs": [
    {
     "name": "stdout",
     "output_type": "stream",
     "text": [
      "\n",
      "================================Fold1===================================\n",
      "\n",
      " Root Log Mean Squared Error for Validation set is : 0.2624845263327296\n",
      "\n",
      "================================Fold2===================================\n",
      "\n",
      " Root Log Mean Squared Error for Validation set is : 0.2660635211670052\n",
      "\n",
      "================================Fold3===================================\n",
      "\n",
      " Root Log Mean Squared Error for Validation set is : 0.28395610821936557\n",
      "\n",
      "================================Fold4===================================\n",
      "\n",
      " Root Log Mean Squared Error for Validation set is : 0.26912419917621605\n",
      "\n",
      "================================Fold5===================================\n",
      "\n",
      " Root Log Mean Squared Error for Validation set is : 0.2764661353647834\n",
      "\n",
      "\\Root Log Mean Squared Error for oofs is 0.27172762668105344\n"
     ]
    }
   ],
   "source": [
    "from sklearn.linear_model import LinearRegression\n",
    "clf = LGBMRegressor(max_depth=4, random_state=1999, colsample_bytree=0.7, min_child_samples=15)\n",
    "\n",
    "ens_lgb_oofs, ens_lgb_preds = cross_val(clf, train_new, test_new, ens_features)"
   ]
  },
  {
   "cell_type": "markdown",
   "metadata": {},
   "source": [
    "---\n",
    "# Stacking"
   ]
  },
  {
   "cell_type": "code",
   "execution_count": 430,
   "metadata": {},
   "outputs": [],
   "source": [
    "train_new['lgb_ens'] = ens_lgb_oofs\n",
    "test_new['lgb_ens'] = ens_lgb_preds\n",
    "\n",
    "train_new['linear_ens'] = ens_linear_oofs\n",
    "test_new['linear_ens'] = ens_linear_preds\n",
    "\n",
    "train_new['ridge_ens'] = ens_ridge_oofs\n",
    "test_new['ridge_ens'] = ens_ridge_preds\n",
    "\n",
    "ens_features = [c for c in train_new.columns if c not in [target, 'RERA']]"
   ]
  },
  {
   "cell_type": "code",
   "execution_count": 437,
   "metadata": {
    "collapsed": true
   },
   "outputs": [
    {
     "name": "stdout",
     "output_type": "stream",
     "text": [
      "\n",
      "================================Fold1===================================\n",
      "\n",
      " Root Log Mean Squared Error for Validation set is : 0.25844741905108737\n",
      "\n",
      "================================Fold2===================================\n",
      "\n",
      " Root Log Mean Squared Error for Validation set is : 0.26206260117980895\n",
      "\n",
      "================================Fold3===================================\n",
      "\n",
      " Root Log Mean Squared Error for Validation set is : 0.27858773166807427\n",
      "\n",
      "================================Fold4===================================\n",
      "\n",
      " Root Log Mean Squared Error for Validation set is : 0.2655023518773141\n",
      "\n",
      "================================Fold5===================================\n",
      "\n",
      " Root Log Mean Squared Error for Validation set is : 0.27325484404232964\n",
      "\n",
      "\\Root Log Mean Squared Error for oofs is 0.2676721443262248\n"
     ]
    }
   ],
   "source": [
    "from sklearn.linear_model import LinearRegression\n",
    "clf = LinearRegression()\n",
    "\n",
    "\n",
    "stack_linear_oofs, stack_linear_preds = cross_val(clf, train_new, test_new, ens_features)"
   ]
  },
  {
   "cell_type": "code",
   "execution_count": 432,
   "metadata": {},
   "outputs": [],
   "source": [
    "sample_sub['TARGET(PRICE_IN_LACS)']=np.abs((np.exp(stack_linear_preds)-1))\n",
    "sample_sub.to_csv(path + '\\\\Stacking.csv', index = False)"
   ]
  },
  {
   "cell_type": "code",
   "execution_count": null,
   "metadata": {},
   "outputs": [],
   "source": []
  },
  {
   "cell_type": "code",
   "execution_count": null,
   "metadata": {},
   "outputs": [],
   "source": []
  },
  {
   "cell_type": "code",
   "execution_count": null,
   "metadata": {},
   "outputs": [],
   "source": []
  },
  {
   "cell_type": "code",
   "execution_count": null,
   "metadata": {},
   "outputs": [],
   "source": []
  },
  {
   "cell_type": "code",
   "execution_count": null,
   "metadata": {},
   "outputs": [],
   "source": []
  },
  {
   "cell_type": "code",
   "execution_count": null,
   "metadata": {},
   "outputs": [],
   "source": []
  },
  {
   "cell_type": "code",
   "execution_count": null,
   "metadata": {},
   "outputs": [],
   "source": []
  },
  {
   "cell_type": "code",
   "execution_count": null,
   "metadata": {},
   "outputs": [],
   "source": []
  },
  {
   "cell_type": "code",
   "execution_count": null,
   "metadata": {},
   "outputs": [],
   "source": []
  },
  {
   "cell_type": "code",
   "execution_count": null,
   "metadata": {},
   "outputs": [],
   "source": []
  },
  {
   "cell_type": "code",
   "execution_count": null,
   "metadata": {},
   "outputs": [],
   "source": []
  },
  {
   "cell_type": "code",
   "execution_count": null,
   "metadata": {},
   "outputs": [],
   "source": []
  },
  {
   "cell_type": "code",
   "execution_count": null,
   "metadata": {},
   "outputs": [],
   "source": []
  },
  {
   "cell_type": "code",
   "execution_count": null,
   "metadata": {},
   "outputs": [],
   "source": []
  },
  {
   "cell_type": "code",
   "execution_count": null,
   "metadata": {},
   "outputs": [],
   "source": []
  },
  {
   "cell_type": "code",
   "execution_count": null,
   "metadata": {},
   "outputs": [],
   "source": []
  },
  {
   "cell_type": "code",
   "execution_count": null,
   "metadata": {},
   "outputs": [],
   "source": []
  },
  {
   "cell_type": "code",
   "execution_count": null,
   "metadata": {},
   "outputs": [],
   "source": []
  },
  {
   "cell_type": "code",
   "execution_count": null,
   "metadata": {},
   "outputs": [],
   "source": []
  },
  {
   "cell_type": "code",
   "execution_count": null,
   "metadata": {},
   "outputs": [],
   "source": []
  },
  {
   "cell_type": "code",
   "execution_count": null,
   "metadata": {},
   "outputs": [],
   "source": []
  },
  {
   "cell_type": "code",
   "execution_count": null,
   "metadata": {},
   "outputs": [],
   "source": []
  },
  {
   "cell_type": "code",
   "execution_count": null,
   "metadata": {},
   "outputs": [],
   "source": []
  },
  {
   "cell_type": "code",
   "execution_count": null,
   "metadata": {},
   "outputs": [],
   "source": []
  },
  {
   "cell_type": "code",
   "execution_count": null,
   "metadata": {},
   "outputs": [],
   "source": []
  },
  {
   "cell_type": "code",
   "execution_count": null,
   "metadata": {},
   "outputs": [],
   "source": []
  }
 ],
 "metadata": {
  "kernelspec": {
   "display_name": "Python 3",
   "language": "python",
   "name": "python3"
  },
  "language_info": {
   "codemirror_mode": {
    "name": "ipython",
    "version": 3
   },
   "file_extension": ".py",
   "mimetype": "text/x-python",
   "name": "python",
   "nbconvert_exporter": "python",
   "pygments_lexer": "ipython3",
   "version": "3.7.6"
  }
 },
 "nbformat": 4,
 "nbformat_minor": 4
}
