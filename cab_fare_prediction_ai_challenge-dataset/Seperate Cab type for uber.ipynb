{
 "cells": [
  {
   "cell_type": "code",
   "execution_count": 265,
   "metadata": {},
   "outputs": [],
   "source": [
    "import pandas as pd\n",
    "import numpy as np\n",
    "import os\n",
    "path = os.getcwd()\n",
    "\n",
    "\n",
    "from sklearn.linear_model import LinearRegression\n",
    "from sklearn.tree import DecisionTreeRegressor\n",
    "from sklearn.ensemble import RandomForestRegressor, GradientBoostingRegressor,BaggingRegressor, StackingRegressor\n",
    "from lightgbm import LGBMRegressor\n",
    "from xgboost import XGBRegressor\n",
    "from catboost import CatBoostRegressor\n",
    "\n",
    "from sklearn.metrics import mean_squared_error, mean_absolute_error, mean_squared_log_error, r2_score"
   ]
  },
  {
   "cell_type": "code",
   "execution_count": 266,
   "metadata": {},
   "outputs": [],
   "source": [
    "train = pd.read_csv(path + \"\\\\TRAIN.csv\", index_col = 'index')\n",
    "test = pd.read_csv(path + \"\\\\TEST.csv\", index_col = 'index')\n",
    "ss = pd.read_csv(path + \"\\\\sample_submission.csv\")"
   ]
  },
  {
   "cell_type": "code",
   "execution_count": 267,
   "metadata": {},
   "outputs": [],
   "source": [
    "# Test Index for Uber and lyft\n",
    "uber_index = test[test['cab_provider'] == 'Uber'].index\n",
    "lyft_index = test[test['cab_provider'] == 'Lyft'].index"
   ]
  },
  {
   "cell_type": "code",
   "execution_count": 268,
   "metadata": {},
   "outputs": [],
   "source": [
    "train['time_stamp'] = pd.to_datetime(train['time_stamp'], unit = 'ms')\n",
    "test['time_stamp'] = pd.to_datetime(test['time_stamp'], unit = 'ms')"
   ]
  },
  {
   "cell_type": "code",
   "execution_count": 269,
   "metadata": {},
   "outputs": [],
   "source": [
    "train[\"hour\"] = pd.to_datetime(train.time_stamp, format=\"%Y-%m-%d\").dt.hour\n",
    "train[\"minute\"] = pd.to_datetime(train.time_stamp, format=\"%Y-%m-%d\").dt.minute\n",
    "train[\"day\"] = pd.to_datetime(train.time_stamp, format=\"%Y-%m-%d\").dt.day\n",
    "\n",
    "test[\"hour\"] = pd.to_datetime(test.time_stamp, format=\"%Y-%m-%d\").dt.hour\n",
    "test[\"minute\"] = pd.to_datetime(test.time_stamp, format=\"%Y-%m-%d\").dt.minute\n",
    "test[\"day\"] = pd.to_datetime(test.time_stamp, format=\"%Y-%m-%d\").dt.day"
   ]
  },
  {
   "cell_type": "code",
   "execution_count": 270,
   "metadata": {},
   "outputs": [],
   "source": [
    "df = pd.concat([train, test], axis = 0).reset_index(drop=True)\n",
    "df['time_stamp'] = pd.to_datetime(df['time_stamp'], unit = 'ms')"
   ]
  },
  {
   "cell_type": "code",
   "execution_count": 271,
   "metadata": {},
   "outputs": [],
   "source": [
    "from sklearn.preprocessing import LabelEncoder, MinMaxScaler, StandardScaler\n",
    "le = LabelEncoder()\n",
    "sl = MinMaxScaler()"
   ]
  },
  {
   "cell_type": "code",
   "execution_count": 272,
   "metadata": {},
   "outputs": [],
   "source": [
    "dict_ = {'Lux Black XL':1, 'Black':2, 'UberX':3, 'Lyft':4, 'UberXL':5,\n",
    " 'WAV':6,'Shared':7, 'Lux':8, 'Lux Black':9, 'Black SUV':10, 'UberPool':11, 'Lyft XL':12}\n",
    "\n",
    "df['cab_type'] = df['cab_type'].map(dict_) "
   ]
  },
  {
   "cell_type": "code",
   "execution_count": 273,
   "metadata": {},
   "outputs": [],
   "source": [
    "dict_ = {'Theatre District': 1, 'Fenway': 2, 'Beacon Hill': 3,\n",
    "        'North End': 4, 'Northeastern University': 5, 'Financial District': 6,\n",
    "        'Boston University': 7, 'Haymarket Square': 8, 'West End': 9,\n",
    "        'South Station': 10, 'North Station': 11, 'Back Bay': 12}\n",
    "\n",
    "df['source'] = df['source'].map(dict_)\n",
    "df['destination'] = df['destination'].map(dict_) "
   ]
  },
  {
   "cell_type": "code",
   "execution_count": 274,
   "metadata": {},
   "outputs": [],
   "source": [
    "label_cols = ['cab_provider']\n",
    "\n",
    "df[label_cols] = df[label_cols].apply(le.fit_transform)"
   ]
  },
  {
   "cell_type": "code",
   "execution_count": 275,
   "metadata": {},
   "outputs": [],
   "source": [
    "lyft_size = train[train['cab_provider'] == 'Lyft'].shape[0]\n",
    "df_lyft = df[df['cab_provider'] == 0].copy()\n"
   ]
  },
  {
   "cell_type": "code",
   "execution_count": 276,
   "metadata": {},
   "outputs": [],
   "source": [
    "train_lyft, test_lyft = df_lyft[:lyft_size], df_lyft[lyft_size:].reset_index(drop=True)"
   ]
  },
  {
   "cell_type": "code",
   "execution_count": 277,
   "metadata": {},
   "outputs": [],
   "source": [
    "target = 'fare'\n",
    "time = 'time_stamp'\n",
    "time_feats = ['hour', 'year', 'minute', 'day','dayofweek', 'month', 'weekday']\n",
    "provider = 'cab_provider'\n",
    "\n",
    "features = [col for col in df.columns if col not in [target, time, provider]]"
   ]
  },
  {
   "cell_type": "code",
   "execution_count": 278,
   "metadata": {},
   "outputs": [],
   "source": [
    "from sklearn.model_selection import train_test_split, StratifiedKFold\n",
    "\n",
    "trn, val = train_test_split(train_lyft, test_size = 0.2, random_state = 1999)\n",
    "\n",
    "##### Input for model\n",
    "X_trn, X_val = trn[features], val[features]\n",
    "\n",
    "##### Target column\n",
    "y_trn, y_val = trn[target], val[target]\n",
    "\n",
    "##### Features for test data that we will be predicting\n",
    "X_test = test_lyft[features]"
   ]
  },
  {
   "cell_type": "code",
   "execution_count": 279,
   "metadata": {},
   "outputs": [
    {
     "name": "stdout",
     "output_type": "stream",
     "text": [
      "Wall time: 1.18 s\n"
     ]
    }
   ],
   "source": [
    "%%time\n",
    "\n",
    "xgb = XGBRegressor(random_state = 1999)\n",
    "\n",
    "xgb.fit(train_lyft[features], train_lyft[target])\n",
    "preds = xgb.predict(X_test)\n",
    "preds = np.abs(preds)\n",
    "\n",
    "#error = np.sqrt(mean_squared_error(y_val, preds))\n",
    "\n",
    "#print(f'mean_squared_log_error is : {error}')"
   ]
  },
  {
   "cell_type": "code",
   "execution_count": 280,
   "metadata": {},
   "outputs": [],
   "source": [
    "test['Predictions'] = None\n",
    "test.loc[lyft_index, 'Predictions'] = preds"
   ]
  },
  {
   "cell_type": "markdown",
   "metadata": {},
   "source": [
    "---\n",
    "# Uber"
   ]
  },
  {
   "cell_type": "code",
   "execution_count": 281,
   "metadata": {},
   "outputs": [],
   "source": [
    "uber_size = train[train['cab_provider'] == 'Uber'].shape[0]\n",
    "df_uber = df[df['cab_provider'] == 1].copy()"
   ]
  },
  {
   "cell_type": "code",
   "execution_count": 282,
   "metadata": {},
   "outputs": [],
   "source": [
    "uber_type = list(df_uber['cab_type'].unique())"
   ]
  },
  {
   "cell_type": "code",
   "execution_count": 283,
   "metadata": {},
   "outputs": [],
   "source": [
    "train_uber, test_uber = df_uber[:uber_size], df_uber[uber_size:]"
   ]
  },
  {
   "cell_type": "code",
   "execution_count": 284,
   "metadata": {},
   "outputs": [],
   "source": [
    "features = ['source',\n",
    " 'destination',\n",
    " 'distance',\n",
    " 'surge_multiplier',\n",
    " 'hour',\n",
    " 'minute',\n",
    " 'day']"
   ]
  },
  {
   "cell_type": "code",
   "execution_count": 285,
   "metadata": {},
   "outputs": [],
   "source": [
    "ls =['Black', 'UberX', 'UberXL', 'WAV', 'Black SUV', 'UberPool']"
   ]
  },
  {
   "cell_type": "code",
   "execution_count": 286,
   "metadata": {
    "scrolled": true
   },
   "outputs": [
    {
     "name": "stdout",
     "output_type": "stream",
     "text": [
      "Cab_Type: 2\n",
      "Cab_Type: 3\n",
      "Cab_Type: 5\n",
      "Cab_Type: 6\n",
      "Cab_Type: 10\n",
      "Cab_Type: 11\n"
     ]
    }
   ],
   "source": [
    "for cab_type, key in zip(uber_type, ls):\n",
    "    print(f'Cab_Type: {cab_type}')\n",
    "    \n",
    "    test_index = test[(test['cab_provider'] == 'Uber') & (test['cab_type'] == key)].index\n",
    "    \n",
    "    lgb = LGBMRegressor(random_state=1999)\n",
    "    \n",
    "    lgb.fit(train_uber[train_uber['cab_type'] == cab_type][features], train_uber[train_uber['cab_type'] == cab_type][target], verbose = 100)\n",
    "    \n",
    "    preds = lgb.predict(test_uber[test_uber['cab_type'] == cab_type][features])\n",
    "    preds = np.abs(preds)\n",
    "    \n",
    "    test.loc[test_index, 'Predictions'] = preds"
   ]
  },
  {
   "cell_type": "code",
   "execution_count": 287,
   "metadata": {},
   "outputs": [],
   "source": [
    "index = [i for i in range(25000)]\n",
    "d = list(zip(index, test['Predictions']))\n",
    "ss = pd.DataFrame(d, columns=['index', target])\n",
    "\n",
    "\n",
    "ss.to_csv(path + \"\\\\baseline_seperate.csv\", index = False)"
   ]
  },
  {
   "cell_type": "code",
   "execution_count": null,
   "metadata": {},
   "outputs": [],
   "source": []
  },
  {
   "cell_type": "code",
   "execution_count": null,
   "metadata": {},
   "outputs": [],
   "source": []
  },
  {
   "cell_type": "code",
   "execution_count": null,
   "metadata": {},
   "outputs": [],
   "source": []
  },
  {
   "cell_type": "code",
   "execution_count": null,
   "metadata": {},
   "outputs": [],
   "source": []
  },
  {
   "cell_type": "code",
   "execution_count": null,
   "metadata": {},
   "outputs": [],
   "source": []
  },
  {
   "cell_type": "code",
   "execution_count": null,
   "metadata": {},
   "outputs": [],
   "source": []
  },
  {
   "cell_type": "code",
   "execution_count": null,
   "metadata": {},
   "outputs": [],
   "source": []
  },
  {
   "cell_type": "code",
   "execution_count": null,
   "metadata": {},
   "outputs": [],
   "source": []
  },
  {
   "cell_type": "code",
   "execution_count": null,
   "metadata": {},
   "outputs": [],
   "source": []
  },
  {
   "cell_type": "code",
   "execution_count": null,
   "metadata": {},
   "outputs": [],
   "source": []
  },
  {
   "cell_type": "code",
   "execution_count": null,
   "metadata": {},
   "outputs": [],
   "source": []
  }
 ],
 "metadata": {
  "kernelspec": {
   "display_name": "Python 3",
   "language": "python",
   "name": "python3"
  },
  "language_info": {
   "codemirror_mode": {
    "name": "ipython",
    "version": 3
   },
   "file_extension": ".py",
   "mimetype": "text/x-python",
   "name": "python",
   "nbconvert_exporter": "python",
   "pygments_lexer": "ipython3",
   "version": "3.7.6"
  }
 },
 "nbformat": 4,
 "nbformat_minor": 4
}
